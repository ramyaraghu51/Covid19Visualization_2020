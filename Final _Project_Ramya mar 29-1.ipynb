{
 "cells": [
  {
   "cell_type": "markdown",
   "metadata": {},
   "source": [
    "# Individual Project\n",
    "> Done by: Ramya Rengarajan\n",
    "\n",
    "## Covid-19 Data Analysis and Visualization. \n",
    "\n",
    "\n",
    "Data Source:https://github.com/CSSEGISandData/COVID-19"
   ]
  },
  {
   "cell_type": "markdown",
   "metadata": {},
   "source": [
    "## Description"
   ]
  },
  {
   "cell_type": "markdown",
   "metadata": {},
   "source": [
    "It is your task to explore and analyze a dataset. Using Pandas and visualization tools of your choice, you will extract insights by inspecting and comparing variables. You will summarize your conclusions and present your findings with plots. "
   ]
  },
  {
   "cell_type": "markdown",
   "metadata": {},
   "source": [
    "## Analysis strategy (10 pts)\n",
    "Describe your plan for analyzing the data, showing you understand the basic elements of exploratory data analysis.\n",
    "You may want to include a description of the dataset, an analysis strategy for reading in, manipulating, and analyzing data (e.g. pseudo code), including a description of steps and packages used. Describe the reason behind your methods. Hint: you may also fill this section out after your analysis after your analysis to clarify your methods. "
   ]
  },
  {
   "cell_type": "markdown",
   "metadata": {},
   "source": [
    "#### Steps for analyzing the data.\n",
    "\n",
    "1. Find a relevant [data source](https://github.com/CSSEGISandData/COVID-19)\n",
    "2. Import libraries like pandas, seaborn, numpy\n",
    "3. Import the data as csv file from local directory\n",
    "4. Poke around the data and get more familiar with it, using such methods as head(), tail(), info(), describe(), shape(), etc.\n",
    "5. Clean up the N/A or empty values present in the data set. \n",
    "6. As the data choosen is a time series, sorting by observation date is crucial to get the correct timeline. \n",
    "7. Provide meaningful insights using built-in pandas functions like sort_values(), groupby(), diff(), idmax(), sum() additionaly by writing custom agg functions. \n",
    "8. Provide stylized tables for better visualization. \n",
    "9. Convert the tabular information into seaborn grpahs. \n",
    "10. Provide usefull summary based on the analysis done using the given steps. \n",
    "\n",
    "#### Description of the Dataset\n",
    "\n",
    "As we are all living through the current global pandemic COVID-19, I decided to use COVID-19 daily dashboard dataset prepared by John Hopkins University. The information and insights that we can get from this dataset can be used to educate wider population, predict trends and also help governing bodies in talking decisions.  \n",
    "\n",
    "This dataset is a live dataset as the COVID-19 situation changes rapidly everyday. "
   ]
  },
  {
   "cell_type": "code",
   "execution_count": 373,
   "metadata": {},
   "outputs": [],
   "source": [
    "import pandas as pd\n",
    "import numpy as numpy\n",
    "import seaborn as sns"
   ]
  },
  {
   "cell_type": "markdown",
   "metadata": {},
   "source": [
    "## Read in the file (5 pts)"
   ]
  },
  {
   "cell_type": "markdown",
   "metadata": {},
   "source": [
    "### The dataset contains the affected cases of corona virus- as of March 30th. "
   ]
  },
  {
   "cell_type": "code",
   "execution_count": 436,
   "metadata": {},
   "outputs": [],
   "source": [
    "covid_19_df = pd.read_csv(\"covid_19_data.csv\")"
   ]
  },
  {
   "cell_type": "markdown",
   "metadata": {},
   "source": [
    "##### Examining the dataset to find the no of rows and columns\n"
   ]
  },
  {
   "cell_type": "code",
   "execution_count": 437,
   "metadata": {
    "scrolled": true
   },
   "outputs": [
    {
     "data": {
      "text/plain": [
       "(7318, 8)"
      ]
     },
     "execution_count": 437,
     "metadata": {},
     "output_type": "execute_result"
    }
   ],
   "source": [
    "\n",
    "covid_19_df..shape"
   ]
  },
  {
   "cell_type": "markdown",
   "metadata": {},
   "source": [
    "##### Obtaining the first and last 10 rows\n"
   ]
  },
  {
   "cell_type": "code",
   "execution_count": 442,
   "metadata": {
    "scrolled": true
   },
   "outputs": [
    {
     "data": {
      "text/html": [
       "<div>\n",
       "<style scoped>\n",
       "    .dataframe tbody tr th:only-of-type {\n",
       "        vertical-align: middle;\n",
       "    }\n",
       "\n",
       "    .dataframe tbody tr th {\n",
       "        vertical-align: top;\n",
       "    }\n",
       "\n",
       "    .dataframe thead th {\n",
       "        text-align: right;\n",
       "    }\n",
       "</style>\n",
       "<table border=\"1\" class=\"dataframe\">\n",
       "  <thead>\n",
       "    <tr style=\"text-align: right;\">\n",
       "      <th></th>\n",
       "      <th>SNo</th>\n",
       "      <th>ObservationDate</th>\n",
       "      <th>Province/State</th>\n",
       "      <th>Country/Region</th>\n",
       "      <th>Last Update</th>\n",
       "      <th>Confirmed</th>\n",
       "      <th>Deaths</th>\n",
       "      <th>Recovered</th>\n",
       "    </tr>\n",
       "  </thead>\n",
       "  <tbody>\n",
       "    <tr>\n",
       "      <th>7308</th>\n",
       "      <td>7309.0</td>\n",
       "      <td>3/20/2020</td>\n",
       "      <td></td>\n",
       "      <td>Jersey</td>\n",
       "      <td>2020-03-17T18:33:03</td>\n",
       "      <td>0.0</td>\n",
       "      <td>0.0</td>\n",
       "      <td>0.0</td>\n",
       "    </tr>\n",
       "    <tr>\n",
       "      <th>7309</th>\n",
       "      <td>7310.0</td>\n",
       "      <td>3/20/2020</td>\n",
       "      <td></td>\n",
       "      <td>Puerto Rico</td>\n",
       "      <td>2020-03-17T16:13:14</td>\n",
       "      <td>0.0</td>\n",
       "      <td>0.0</td>\n",
       "      <td>0.0</td>\n",
       "    </tr>\n",
       "    <tr>\n",
       "      <th>7310</th>\n",
       "      <td>7311.0</td>\n",
       "      <td>3/20/2020</td>\n",
       "      <td></td>\n",
       "      <td>Republic of the Congo</td>\n",
       "      <td>2020-03-17T21:33:03</td>\n",
       "      <td>0.0</td>\n",
       "      <td>0.0</td>\n",
       "      <td>0.0</td>\n",
       "    </tr>\n",
       "    <tr>\n",
       "      <th>7311</th>\n",
       "      <td>7312.0</td>\n",
       "      <td>3/20/2020</td>\n",
       "      <td></td>\n",
       "      <td>The Bahamas</td>\n",
       "      <td>2020-03-19T12:13:38</td>\n",
       "      <td>0.0</td>\n",
       "      <td>0.0</td>\n",
       "      <td>0.0</td>\n",
       "    </tr>\n",
       "    <tr>\n",
       "      <th>7312</th>\n",
       "      <td>7313.0</td>\n",
       "      <td>3/20/2020</td>\n",
       "      <td></td>\n",
       "      <td>The Gambia</td>\n",
       "      <td>2020-03-18T14:13:56</td>\n",
       "      <td>0.0</td>\n",
       "      <td>0.0</td>\n",
       "      <td>0.0</td>\n",
       "    </tr>\n",
       "    <tr>\n",
       "      <th>7313</th>\n",
       "      <td>NaN</td>\n",
       "      <td>NaN</td>\n",
       "      <td></td>\n",
       "      <td>NaN</td>\n",
       "      <td>NaN</td>\n",
       "      <td>NaN</td>\n",
       "      <td>NaN</td>\n",
       "      <td>NaN</td>\n",
       "    </tr>\n",
       "    <tr>\n",
       "      <th>7314</th>\n",
       "      <td>NaN</td>\n",
       "      <td>NaN</td>\n",
       "      <td></td>\n",
       "      <td>NaN</td>\n",
       "      <td>NaN</td>\n",
       "      <td>NaN</td>\n",
       "      <td>NaN</td>\n",
       "      <td>NaN</td>\n",
       "    </tr>\n",
       "    <tr>\n",
       "      <th>7315</th>\n",
       "      <td>NaN</td>\n",
       "      <td>NaN</td>\n",
       "      <td></td>\n",
       "      <td>NaN</td>\n",
       "      <td>NaN</td>\n",
       "      <td>NaN</td>\n",
       "      <td>NaN</td>\n",
       "      <td>NaN</td>\n",
       "    </tr>\n",
       "    <tr>\n",
       "      <th>7316</th>\n",
       "      <td>NaN</td>\n",
       "      <td>NaN</td>\n",
       "      <td></td>\n",
       "      <td>NaN</td>\n",
       "      <td>NaN</td>\n",
       "      <td>NaN</td>\n",
       "      <td>NaN</td>\n",
       "      <td>NaN</td>\n",
       "    </tr>\n",
       "    <tr>\n",
       "      <th>7317</th>\n",
       "      <td>NaN</td>\n",
       "      <td>NaN</td>\n",
       "      <td></td>\n",
       "      <td>NaN</td>\n",
       "      <td>NaN</td>\n",
       "      <td>NaN</td>\n",
       "      <td>NaN</td>\n",
       "      <td>NaN</td>\n",
       "    </tr>\n",
       "  </tbody>\n",
       "</table>\n",
       "</div>"
      ],
      "text/plain": [
       "         SNo ObservationDate Province/State         Country/Region  \\\n",
       "7308  7309.0       3/20/2020                                Jersey   \n",
       "7309  7310.0       3/20/2020                           Puerto Rico   \n",
       "7310  7311.0       3/20/2020                 Republic of the Congo   \n",
       "7311  7312.0       3/20/2020                           The Bahamas   \n",
       "7312  7313.0       3/20/2020                            The Gambia   \n",
       "7313     NaN             NaN                                   NaN   \n",
       "7314     NaN             NaN                                   NaN   \n",
       "7315     NaN             NaN                                   NaN   \n",
       "7316     NaN             NaN                                   NaN   \n",
       "7317     NaN             NaN                                   NaN   \n",
       "\n",
       "              Last Update  Confirmed  Deaths  Recovered  \n",
       "7308  2020-03-17T18:33:03        0.0     0.0        0.0  \n",
       "7309  2020-03-17T16:13:14        0.0     0.0        0.0  \n",
       "7310  2020-03-17T21:33:03        0.0     0.0        0.0  \n",
       "7311  2020-03-19T12:13:38        0.0     0.0        0.0  \n",
       "7312  2020-03-18T14:13:56        0.0     0.0        0.0  \n",
       "7313                  NaN        NaN     NaN        NaN  \n",
       "7314                  NaN        NaN     NaN        NaN  \n",
       "7315                  NaN        NaN     NaN        NaN  \n",
       "7316                  NaN        NaN     NaN        NaN  \n",
       "7317                  NaN        NaN     NaN        NaN  "
      ]
     },
     "execution_count": 442,
     "metadata": {},
     "output_type": "execute_result"
    }
   ],
   "source": [
    "covid_19_df.tail(10)"
   ]
  },
  {
   "cell_type": "markdown",
   "metadata": {},
   "source": [
    "##### Sort the data based on observed date"
   ]
  },
  {
   "cell_type": "code",
   "execution_count": 446,
   "metadata": {},
   "outputs": [
    {
     "data": {
      "text/html": [
       "<div>\n",
       "<style scoped>\n",
       "    .dataframe tbody tr th:only-of-type {\n",
       "        vertical-align: middle;\n",
       "    }\n",
       "\n",
       "    .dataframe tbody tr th {\n",
       "        vertical-align: top;\n",
       "    }\n",
       "\n",
       "    .dataframe thead th {\n",
       "        text-align: right;\n",
       "    }\n",
       "</style>\n",
       "<table border=\"1\" class=\"dataframe\">\n",
       "  <thead>\n",
       "    <tr style=\"text-align: right;\">\n",
       "      <th></th>\n",
       "      <th>SNo</th>\n",
       "      <th>ObservationDate</th>\n",
       "      <th>Province/State</th>\n",
       "      <th>Country/Region</th>\n",
       "      <th>Last Update</th>\n",
       "      <th>Confirmed</th>\n",
       "      <th>Deaths</th>\n",
       "      <th>Recovered</th>\n",
       "    </tr>\n",
       "  </thead>\n",
       "  <tbody>\n",
       "    <tr>\n",
       "      <th>73</th>\n",
       "      <td>28.0</td>\n",
       "      <td>1/22/2020</td>\n",
       "      <td>Sichuan</td>\n",
       "      <td>Mainland China</td>\n",
       "      <td>1/22/2020 17:00</td>\n",
       "      <td>5.0</td>\n",
       "      <td>0.0</td>\n",
       "      <td>0.0</td>\n",
       "    </tr>\n",
       "    <tr>\n",
       "      <th>48</th>\n",
       "      <td>1.0</td>\n",
       "      <td>1/22/2020</td>\n",
       "      <td>Anhui</td>\n",
       "      <td>Mainland China</td>\n",
       "      <td>1/22/2020 17:00</td>\n",
       "      <td>1.0</td>\n",
       "      <td>0.0</td>\n",
       "      <td>0.0</td>\n",
       "    </tr>\n",
       "    <tr>\n",
       "      <th>49</th>\n",
       "      <td>2.0</td>\n",
       "      <td>1/22/2020</td>\n",
       "      <td>Beijing</td>\n",
       "      <td>Mainland China</td>\n",
       "      <td>1/22/2020 17:00</td>\n",
       "      <td>14.0</td>\n",
       "      <td>0.0</td>\n",
       "      <td>0.0</td>\n",
       "    </tr>\n",
       "    <tr>\n",
       "      <th>50</th>\n",
       "      <td>3.0</td>\n",
       "      <td>1/22/2020</td>\n",
       "      <td>Chongqing</td>\n",
       "      <td>Mainland China</td>\n",
       "      <td>1/22/2020 17:00</td>\n",
       "      <td>6.0</td>\n",
       "      <td>0.0</td>\n",
       "      <td>0.0</td>\n",
       "    </tr>\n",
       "    <tr>\n",
       "      <th>51</th>\n",
       "      <td>4.0</td>\n",
       "      <td>1/22/2020</td>\n",
       "      <td>Fujian</td>\n",
       "      <td>Mainland China</td>\n",
       "      <td>1/22/2020 17:00</td>\n",
       "      <td>1.0</td>\n",
       "      <td>0.0</td>\n",
       "      <td>0.0</td>\n",
       "    </tr>\n",
       "  </tbody>\n",
       "</table>\n",
       "</div>"
      ],
      "text/plain": [
       "     SNo ObservationDate Province/State  Country/Region      Last Update  \\\n",
       "73  28.0       1/22/2020        Sichuan  Mainland China  1/22/2020 17:00   \n",
       "48   1.0       1/22/2020          Anhui  Mainland China  1/22/2020 17:00   \n",
       "49   2.0       1/22/2020        Beijing  Mainland China  1/22/2020 17:00   \n",
       "50   3.0       1/22/2020      Chongqing  Mainland China  1/22/2020 17:00   \n",
       "51   4.0       1/22/2020         Fujian  Mainland China  1/22/2020 17:00   \n",
       "\n",
       "    Confirmed  Deaths  Recovered  \n",
       "73        5.0     0.0        0.0  \n",
       "48        1.0     0.0        0.0  \n",
       "49       14.0     0.0        0.0  \n",
       "50        6.0     0.0        0.0  \n",
       "51        1.0     0.0        0.0  "
      ]
     },
     "execution_count": 446,
     "metadata": {},
     "output_type": "execute_result"
    }
   ],
   "source": [
    "\n",
    "covid_19_df.sort_values(by='ObservationDate').head(10)"
   ]
  },
  {
   "cell_type": "markdown",
   "metadata": {},
   "source": [
    "##### Cleaning - Setting Province/State as a non null value for easier computation"
   ]
  },
  {
   "cell_type": "code",
   "execution_count": 440,
   "metadata": {},
   "outputs": [],
   "source": [
    "covid_19_df[['Province/State']] = covid_19_df[['Province/State']].fillna('')"
   ]
  },
  {
   "cell_type": "code",
   "execution_count": 379,
   "metadata": {},
   "outputs": [
    {
     "name": "stdout",
     "output_type": "stream",
     "text": [
      "<class 'pandas.core.frame.DataFrame'>\n",
      "RangeIndex: 7313 entries, 0 to 7312\n",
      "Data columns (total 8 columns):\n",
      " #   Column           Non-Null Count  Dtype \n",
      "---  ------           --------------  ----- \n",
      " 0   SNo              7313 non-null   int64 \n",
      " 1   ObservationDate  7313 non-null   object\n",
      " 2   Province/State   7313 non-null   object\n",
      " 3   Country/Region   7313 non-null   object\n",
      " 4   Last Update      7313 non-null   object\n",
      " 5   Confirmed        7313 non-null   int64 \n",
      " 6   Deaths           7313 non-null   int64 \n",
      " 7   Recovered        7313 non-null   int64 \n",
      "dtypes: int64(4), object(4)\n",
      "memory usage: 457.2+ KB\n"
     ]
    }
   ],
   "source": [
    "covid_19_df.info()"
   ]
  },
  {
   "cell_type": "markdown",
   "metadata": {},
   "source": [
    "## Pandas insights (5 pts)\n",
    "Provide at least 3 insights using Pandas. These may include descriptive statistics such as mean, median, counts, etc. Use built-in Pandas functions."
   ]
  },
  {
   "cell_type": "markdown",
   "metadata": {},
   "source": [
    "### Insight 1"
   ]
  },
  {
   "cell_type": "code",
   "execution_count": 417,
   "metadata": {},
   "outputs": [
    {
     "name": "stderr",
     "output_type": "stream",
     "text": [
      "C:\\Users\\ramya\\Anaconda3\\lib\\site-packages\\ipykernel_launcher.py:3: FutureWarning: Indexing with multiple keys (implicitly converted to a tuple of keys) will be deprecated, use a list instead.\n",
      "  This is separate from the ipykernel package so we can avoid doing imports until\n"
     ]
    },
    {
     "data": {
      "text/html": [
       "<style  type=\"text/css\" >\n",
       "    #T_054f651c_7234_11ea_a82c_94e6f71c16efrow0_col0 {\n",
       "            background-color:  #fff5f0;\n",
       "            color:  #000000;\n",
       "        }    #T_054f651c_7234_11ea_a82c_94e6f71c16efrow0_col1 {\n",
       "            background-color:  #67000d;\n",
       "            color:  #f1f1f1;\n",
       "        }    #T_054f651c_7234_11ea_a82c_94e6f71c16efrow0_col2 {\n",
       "            background-color:  #fcae92;\n",
       "            color:  #000000;\n",
       "        }</style><table id=\"T_054f651c_7234_11ea_a82c_94e6f71c16ef\" ><thead>    <tr>        <th class=\"blank level0\" ></th>        <th class=\"col_heading level0 col0\" >Deaths</th>        <th class=\"col_heading level0 col1\" >Confirmed</th>        <th class=\"col_heading level0 col2\" >Recovered</th>    </tr>    <tr>        <th class=\"index_name level0\" >ObservationDate</th>        <th class=\"blank\" ></th>        <th class=\"blank\" ></th>        <th class=\"blank\" ></th>    </tr></thead><tbody>\n",
       "                <tr>\n",
       "                        <th id=\"T_054f651c_7234_11ea_a82c_94e6f71c16eflevel0_row0\" class=\"row_heading level0 row0\" >03/20/2020</th>\n",
       "                        <td id=\"T_054f651c_7234_11ea_a82c_94e6f71c16efrow0_col0\" class=\"data row0 col0\" >11299</td>\n",
       "                        <td id=\"T_054f651c_7234_11ea_a82c_94e6f71c16efrow0_col1\" class=\"data row0 col1\" >272167</td>\n",
       "                        <td id=\"T_054f651c_7234_11ea_a82c_94e6f71c16efrow0_col2\" class=\"data row0 col2\" >87403</td>\n",
       "            </tr>\n",
       "    </tbody></table>"
      ],
      "text/plain": [
       "<pandas.io.formats.style.Styler at 0x174e9619848>"
      ]
     },
     "execution_count": 417,
     "metadata": {},
     "output_type": "execute_result"
    }
   ],
   "source": [
    "#Group by observation date and find the total number of deaths,confirmed,recovered in corona virus using sum function\n",
    "#Returning the cases for the most recent date in the data set\n",
    "cases_df = covid_19_df.groupby('ObservationDate')['Deaths','Confirmed','Recovered' ]\n",
    "total_cases = cases_df.sum()[['Deaths','Confirmed','Recovered']].tail(1)\n",
    "table_of_cases = total_cases.style.background_gradient(cmap='Reds',axis=(1))\n",
    "table_of_cases"
   ]
  },
  {
   "cell_type": "markdown",
   "metadata": {},
   "source": [
    "### Insight 2"
   ]
  },
  {
   "cell_type": "markdown",
   "metadata": {},
   "source": [
    "Based on the information in HEAD we can see that the virus originated in Mainland china.  \n",
    "Epicentre of COVID-19 was a wet market in Wuhan which is located in province Hubei.  \n",
    "Using describe function to find the mean,maximum and minumum for COVID-19 the cases registered,recovered, deaths  per day ."
   ]
  },
  {
   "cell_type": "code",
   "execution_count": 451,
   "metadata": {},
   "outputs": [
    {
     "data": {
      "text/html": [
       "<div>\n",
       "<style scoped>\n",
       "    .dataframe tbody tr th:only-of-type {\n",
       "        vertical-align: middle;\n",
       "    }\n",
       "\n",
       "    .dataframe tbody tr th {\n",
       "        vertical-align: top;\n",
       "    }\n",
       "\n",
       "    .dataframe thead th {\n",
       "        text-align: right;\n",
       "    }\n",
       "</style>\n",
       "<table border=\"1\" class=\"dataframe\">\n",
       "  <thead>\n",
       "    <tr style=\"text-align: right;\">\n",
       "      <th></th>\n",
       "      <th>SNo</th>\n",
       "      <th>Confirmed</th>\n",
       "      <th>Deaths</th>\n",
       "      <th>Recovered</th>\n",
       "    </tr>\n",
       "  </thead>\n",
       "  <tbody>\n",
       "    <tr>\n",
       "      <th>count</th>\n",
       "      <td>59.000000</td>\n",
       "      <td>59.000000</td>\n",
       "      <td>59.000000</td>\n",
       "      <td>59.000000</td>\n",
       "    </tr>\n",
       "    <tr>\n",
       "      <th>mean</th>\n",
       "      <td>2368.457627</td>\n",
       "      <td>45618.389831</td>\n",
       "      <td>1787.474576</td>\n",
       "      <td>20358.254237</td>\n",
       "    </tr>\n",
       "    <tr>\n",
       "      <th>std</th>\n",
       "      <td>1949.681223</td>\n",
       "      <td>26421.803908</td>\n",
       "      <td>1173.763302</td>\n",
       "      <td>21212.003782</td>\n",
       "    </tr>\n",
       "    <tr>\n",
       "      <th>min</th>\n",
       "      <td>14.000000</td>\n",
       "      <td>444.000000</td>\n",
       "      <td>17.000000</td>\n",
       "      <td>28.000000</td>\n",
       "    </tr>\n",
       "    <tr>\n",
       "      <th>25%</th>\n",
       "      <td>801.500000</td>\n",
       "      <td>20888.500000</td>\n",
       "      <td>583.500000</td>\n",
       "      <td>725.000000</td>\n",
       "    </tr>\n",
       "    <tr>\n",
       "      <th>50%</th>\n",
       "      <td>1867.000000</td>\n",
       "      <td>62442.000000</td>\n",
       "      <td>2144.000000</td>\n",
       "      <td>11788.000000</td>\n",
       "    </tr>\n",
       "    <tr>\n",
       "      <th>75%</th>\n",
       "      <td>3482.500000</td>\n",
       "      <td>67529.000000</td>\n",
       "      <td>2916.500000</td>\n",
       "      <td>41312.500000</td>\n",
       "    </tr>\n",
       "    <tr>\n",
       "      <th>max</th>\n",
       "      <td>7015.000000</td>\n",
       "      <td>67800.000000</td>\n",
       "      <td>3133.000000</td>\n",
       "      <td>58382.000000</td>\n",
       "    </tr>\n",
       "  </tbody>\n",
       "</table>\n",
       "</div>"
      ],
      "text/plain": [
       "               SNo     Confirmed       Deaths     Recovered\n",
       "count    59.000000     59.000000    59.000000     59.000000\n",
       "mean   2368.457627  45618.389831  1787.474576  20358.254237\n",
       "std    1949.681223  26421.803908  1173.763302  21212.003782\n",
       "min      14.000000    444.000000    17.000000     28.000000\n",
       "25%     801.500000  20888.500000   583.500000    725.000000\n",
       "50%    1867.000000  62442.000000  2144.000000  11788.000000\n",
       "75%    3482.500000  67529.000000  2916.500000  41312.500000\n",
       "max    7015.000000  67800.000000  3133.000000  58382.000000"
      ]
     },
     "execution_count": 451,
     "metadata": {},
     "output_type": "execute_result"
    }
   ],
   "source": [
    "covid_19_df[(covid_19_df['Country/Region']=='Mainland China') & (covid_19_df['Province/State'] == 'Hubei')].describe()"
   ]
  },
  {
   "cell_type": "markdown",
   "metadata": {},
   "source": [
    "### Insight 3"
   ]
  },
  {
   "cell_type": "markdown",
   "metadata": {},
   "source": [
    "#### Finding maximum number of deaths in a day using idxmax. \n",
    "Sorting the values by Observationdate in descending order.\n",
    "\n",
    "Subtract one from idxmax to find the second highest value in deaths column for the previous day\n",
    "\n",
    "Finding the difference to calculate the maximum people died in a day - 627 Deaths in a day."
   ]
  },
  {
   "cell_type": "code",
   "execution_count": 382,
   "metadata": {},
   "outputs": [
    {
     "name": "stdout",
     "output_type": "stream",
     "text": [
      "Day with highest death value\n",
      "SNo                               7016\n",
      "ObservationDate             03/20/2020\n",
      "Province/State                        \n",
      "Country/Region                   Italy\n",
      "Last Update        2020-03-20T17:43:03\n",
      "Confirmed                        47021\n",
      "Deaths                            4032\n",
      "Recovered                         4440\n",
      "Name: 2017, dtype: object\n",
      "------------------------------------------\n",
      "Day with second highest death value\n",
      "SNo                               6724\n",
      "ObservationDate             03/19/2020\n",
      "Province/State                        \n",
      "Country/Region                   Italy\n",
      "Last Update        2020-03-19T17:43:03\n",
      "Confirmed                        41035\n",
      "Deaths                            3405\n",
      "Recovered                         4440\n",
      "Name: 2016, dtype: object\n",
      "\n",
      "Maximum people died in a day:\n",
      "627\n"
     ]
    }
   ],
   "source": [
    "\n",
    "day_with_max_death = covid_19_df.loc[covid_19_df.sort_values(by='ObservationDate', ascending= False)['Deaths'].idxmax()]\n",
    "day_with_second_max_death = covid_19_df.loc[covid_19_df.sort_values(by='ObservationDate', ascending=False)['Deaths'].idxmax()-1]\n",
    "print(\"Day with highest death value\")\n",
    "print(day_with_max_death)\n",
    "print(\"------------------------------------------\")\n",
    "print(\"Day with second highest death value\")\n",
    "print(day_with_second_max_death)\n",
    "\n",
    "\n",
    "print(\"\\nMaximum people died in a day:\")\n",
    "print(day_with_max_death['Deaths'] - day_with_second_max_death['Deaths'])"
   ]
  },
  {
   "cell_type": "markdown",
   "metadata": {},
   "source": [
    "## Groupby analysis (10 pts)\n",
    "Perform at least one analysis using groupby\n",
    "\n",
    "Group by country and sort to find out which country ranks has the largest number of corona virus cases and sort countries in descending order. \n",
    "\n",
    "Stylize the table"
   ]
  },
  {
   "cell_type": "code",
   "execution_count": 447,
   "metadata": {},
   "outputs": [
    {
     "data": {
      "text/html": [
       "<style  type=\"text/css\" >\n",
       "    #T_945d45a8_7235_11ea_8f99_94e6f71c16efrow0_col1 {\n",
       "            background-color:  #67000d;\n",
       "            color:  #f1f1f1;\n",
       "        }    #T_945d45a8_7235_11ea_8f99_94e6f71c16efrow0_col2 {\n",
       "            background-color:  #c3161b;\n",
       "            color:  #f1f1f1;\n",
       "        }    #T_945d45a8_7235_11ea_8f99_94e6f71c16efrow0_col3 {\n",
       "            background-color:  #67000d;\n",
       "            color:  #f1f1f1;\n",
       "        }    #T_945d45a8_7235_11ea_8f99_94e6f71c16efrow1_col1 {\n",
       "            background-color:  #dc2924;\n",
       "            color:  #f1f1f1;\n",
       "        }    #T_945d45a8_7235_11ea_8f99_94e6f71c16efrow1_col2 {\n",
       "            background-color:  #67000d;\n",
       "            color:  #f1f1f1;\n",
       "        }    #T_945d45a8_7235_11ea_8f99_94e6f71c16efrow1_col3 {\n",
       "            background-color:  #fee8de;\n",
       "            color:  #000000;\n",
       "        }    #T_945d45a8_7235_11ea_8f99_94e6f71c16efrow2_col1 {\n",
       "            background-color:  #fcad90;\n",
       "            color:  #000000;\n",
       "        }    #T_945d45a8_7235_11ea_8f99_94e6f71c16efrow2_col2 {\n",
       "            background-color:  #fcb89e;\n",
       "            color:  #000000;\n",
       "        }    #T_945d45a8_7235_11ea_8f99_94e6f71c16efrow2_col3 {\n",
       "            background-color:  #fff1ea;\n",
       "            color:  #000000;\n",
       "        }    #T_945d45a8_7235_11ea_8f99_94e6f71c16efrow3_col1 {\n",
       "            background-color:  #fcaf93;\n",
       "            color:  #000000;\n",
       "        }    #T_945d45a8_7235_11ea_8f99_94e6f71c16efrow3_col2 {\n",
       "            background-color:  #fff2ec;\n",
       "            color:  #000000;\n",
       "        }    #T_945d45a8_7235_11ea_8f99_94e6f71c16efrow3_col3 {\n",
       "            background-color:  #fff5f0;\n",
       "            color:  #000000;\n",
       "        }    #T_945d45a8_7235_11ea_8f99_94e6f71c16efrow4_col1 {\n",
       "            background-color:  #fcb095;\n",
       "            color:  #000000;\n",
       "        }    #T_945d45a8_7235_11ea_8f99_94e6f71c16efrow4_col2 {\n",
       "            background-color:  #fc997a;\n",
       "            color:  #000000;\n",
       "        }    #T_945d45a8_7235_11ea_8f99_94e6f71c16efrow4_col3 {\n",
       "            background-color:  #fee2d5;\n",
       "            color:  #000000;\n",
       "        }    #T_945d45a8_7235_11ea_8f99_94e6f71c16efrow5_col1 {\n",
       "            background-color:  #fdd0bc;\n",
       "            color:  #000000;\n",
       "        }    #T_945d45a8_7235_11ea_8f99_94e6f71c16efrow5_col2 {\n",
       "            background-color:  #fee3d6;\n",
       "            color:  #000000;\n",
       "        }    #T_945d45a8_7235_11ea_8f99_94e6f71c16efrow5_col3 {\n",
       "            background-color:  #fff5f0;\n",
       "            color:  #000000;\n",
       "        }    #T_945d45a8_7235_11ea_8f99_94e6f71c16efrow6_col1 {\n",
       "            background-color:  #fee1d3;\n",
       "            color:  #000000;\n",
       "        }    #T_945d45a8_7235_11ea_8f99_94e6f71c16efrow6_col2 {\n",
       "            background-color:  #fff2eb;\n",
       "            color:  #000000;\n",
       "        }    #T_945d45a8_7235_11ea_8f99_94e6f71c16efrow6_col3 {\n",
       "            background-color:  #fff1ea;\n",
       "            color:  #000000;\n",
       "        }    #T_945d45a8_7235_11ea_8f99_94e6f71c16efrow7_col1 {\n",
       "            background-color:  #fee2d5;\n",
       "            color:  #000000;\n",
       "        }    #T_945d45a8_7235_11ea_8f99_94e6f71c16efrow7_col2 {\n",
       "            background-color:  #fff4ee;\n",
       "            color:  #000000;\n",
       "        }    #T_945d45a8_7235_11ea_8f99_94e6f71c16efrow7_col3 {\n",
       "            background-color:  #fff5f0;\n",
       "            color:  #000000;\n",
       "        }    #T_945d45a8_7235_11ea_8f99_94e6f71c16efrow8_col1 {\n",
       "            background-color:  #fee9df;\n",
       "            color:  #000000;\n",
       "        }    #T_945d45a8_7235_11ea_8f99_94e6f71c16efrow8_col2 {\n",
       "            background-color:  #fff3ed;\n",
       "            color:  #000000;\n",
       "        }    #T_945d45a8_7235_11ea_8f99_94e6f71c16efrow8_col3 {\n",
       "            background-color:  #fff5f0;\n",
       "            color:  #000000;\n",
       "        }    #T_945d45a8_7235_11ea_8f99_94e6f71c16efrow9_col1 {\n",
       "            background-color:  #ffece4;\n",
       "            color:  #000000;\n",
       "        }    #T_945d45a8_7235_11ea_8f99_94e6f71c16efrow9_col2 {\n",
       "            background-color:  #ffeee6;\n",
       "            color:  #000000;\n",
       "        }    #T_945d45a8_7235_11ea_8f99_94e6f71c16efrow9_col3 {\n",
       "            background-color:  #fff5f0;\n",
       "            color:  #000000;\n",
       "        }    #T_945d45a8_7235_11ea_8f99_94e6f71c16efrow10_col1 {\n",
       "            background-color:  #ffefe8;\n",
       "            color:  #000000;\n",
       "        }    #T_945d45a8_7235_11ea_8f99_94e6f71c16efrow10_col2 {\n",
       "            background-color:  #fff1ea;\n",
       "            color:  #000000;\n",
       "        }    #T_945d45a8_7235_11ea_8f99_94e6f71c16efrow10_col3 {\n",
       "            background-color:  #fff5f0;\n",
       "            color:  #000000;\n",
       "        }    #T_945d45a8_7235_11ea_8f99_94e6f71c16efrow11_col1 {\n",
       "            background-color:  #fff0e9;\n",
       "            color:  #000000;\n",
       "        }    #T_945d45a8_7235_11ea_8f99_94e6f71c16efrow11_col2 {\n",
       "            background-color:  #fff5f0;\n",
       "            color:  #000000;\n",
       "        }    #T_945d45a8_7235_11ea_8f99_94e6f71c16efrow11_col3 {\n",
       "            background-color:  #fff5f0;\n",
       "            color:  #000000;\n",
       "        }    #T_945d45a8_7235_11ea_8f99_94e6f71c16efrow12_col1 {\n",
       "            background-color:  #fff1ea;\n",
       "            color:  #000000;\n",
       "        }    #T_945d45a8_7235_11ea_8f99_94e6f71c16efrow12_col2 {\n",
       "            background-color:  #fff4ee;\n",
       "            color:  #000000;\n",
       "        }    #T_945d45a8_7235_11ea_8f99_94e6f71c16efrow12_col3 {\n",
       "            background-color:  #fff5f0;\n",
       "            color:  #000000;\n",
       "        }    #T_945d45a8_7235_11ea_8f99_94e6f71c16efrow13_col1 {\n",
       "            background-color:  #fff2eb;\n",
       "            color:  #000000;\n",
       "        }    #T_945d45a8_7235_11ea_8f99_94e6f71c16efrow13_col2 {\n",
       "            background-color:  #fff5f0;\n",
       "            color:  #000000;\n",
       "        }    #T_945d45a8_7235_11ea_8f99_94e6f71c16efrow13_col3 {\n",
       "            background-color:  #fff5f0;\n",
       "            color:  #000000;\n",
       "        }    #T_945d45a8_7235_11ea_8f99_94e6f71c16efrow14_col1 {\n",
       "            background-color:  #fff2ec;\n",
       "            color:  #000000;\n",
       "        }    #T_945d45a8_7235_11ea_8f99_94e6f71c16efrow14_col2 {\n",
       "            background-color:  #fff4ef;\n",
       "            color:  #000000;\n",
       "        }    #T_945d45a8_7235_11ea_8f99_94e6f71c16efrow14_col3 {\n",
       "            background-color:  #fff5f0;\n",
       "            color:  #000000;\n",
       "        }    #T_945d45a8_7235_11ea_8f99_94e6f71c16efrow15_col1 {\n",
       "            background-color:  #fff4ee;\n",
       "            color:  #000000;\n",
       "        }    #T_945d45a8_7235_11ea_8f99_94e6f71c16efrow15_col2 {\n",
       "            background-color:  #fff5f0;\n",
       "            color:  #000000;\n",
       "        }    #T_945d45a8_7235_11ea_8f99_94e6f71c16efrow15_col3 {\n",
       "            background-color:  #fff5f0;\n",
       "            color:  #000000;\n",
       "        }    #T_945d45a8_7235_11ea_8f99_94e6f71c16efrow16_col1 {\n",
       "            background-color:  #fff4ee;\n",
       "            color:  #000000;\n",
       "        }    #T_945d45a8_7235_11ea_8f99_94e6f71c16efrow16_col2 {\n",
       "            background-color:  #fff5f0;\n",
       "            color:  #000000;\n",
       "        }    #T_945d45a8_7235_11ea_8f99_94e6f71c16efrow16_col3 {\n",
       "            background-color:  #fff5f0;\n",
       "            color:  #000000;\n",
       "        }    #T_945d45a8_7235_11ea_8f99_94e6f71c16efrow17_col1 {\n",
       "            background-color:  #fff4ef;\n",
       "            color:  #000000;\n",
       "        }    #T_945d45a8_7235_11ea_8f99_94e6f71c16efrow17_col2 {\n",
       "            background-color:  #fff5f0;\n",
       "            color:  #000000;\n",
       "        }    #T_945d45a8_7235_11ea_8f99_94e6f71c16efrow17_col3 {\n",
       "            background-color:  #fff5f0;\n",
       "            color:  #000000;\n",
       "        }    #T_945d45a8_7235_11ea_8f99_94e6f71c16efrow18_col1 {\n",
       "            background-color:  #fff4ef;\n",
       "            color:  #000000;\n",
       "        }    #T_945d45a8_7235_11ea_8f99_94e6f71c16efrow18_col2 {\n",
       "            background-color:  #fff4ee;\n",
       "            color:  #000000;\n",
       "        }    #T_945d45a8_7235_11ea_8f99_94e6f71c16efrow18_col3 {\n",
       "            background-color:  #fff5f0;\n",
       "            color:  #000000;\n",
       "        }    #T_945d45a8_7235_11ea_8f99_94e6f71c16efrow19_col1 {\n",
       "            background-color:  #fff4ef;\n",
       "            color:  #000000;\n",
       "        }    #T_945d45a8_7235_11ea_8f99_94e6f71c16efrow19_col2 {\n",
       "            background-color:  #fff5f0;\n",
       "            color:  #000000;\n",
       "        }    #T_945d45a8_7235_11ea_8f99_94e6f71c16efrow19_col3 {\n",
       "            background-color:  #fff5f0;\n",
       "            color:  #000000;\n",
       "        }    #T_945d45a8_7235_11ea_8f99_94e6f71c16efrow20_col1 {\n",
       "            background-color:  #fff4ef;\n",
       "            color:  #000000;\n",
       "        }    #T_945d45a8_7235_11ea_8f99_94e6f71c16efrow20_col2 {\n",
       "            background-color:  #fff5f0;\n",
       "            color:  #000000;\n",
       "        }    #T_945d45a8_7235_11ea_8f99_94e6f71c16efrow20_col3 {\n",
       "            background-color:  #fff5f0;\n",
       "            color:  #000000;\n",
       "        }    #T_945d45a8_7235_11ea_8f99_94e6f71c16efrow21_col1 {\n",
       "            background-color:  #fff5f0;\n",
       "            color:  #000000;\n",
       "        }    #T_945d45a8_7235_11ea_8f99_94e6f71c16efrow21_col2 {\n",
       "            background-color:  #fff5f0;\n",
       "            color:  #000000;\n",
       "        }    #T_945d45a8_7235_11ea_8f99_94e6f71c16efrow21_col3 {\n",
       "            background-color:  #fff4ef;\n",
       "            color:  #000000;\n",
       "        }    #T_945d45a8_7235_11ea_8f99_94e6f71c16efrow22_col1 {\n",
       "            background-color:  #fff5f0;\n",
       "            color:  #000000;\n",
       "        }    #T_945d45a8_7235_11ea_8f99_94e6f71c16efrow22_col2 {\n",
       "            background-color:  #fff5f0;\n",
       "            color:  #000000;\n",
       "        }    #T_945d45a8_7235_11ea_8f99_94e6f71c16efrow22_col3 {\n",
       "            background-color:  #fff5f0;\n",
       "            color:  #000000;\n",
       "        }    #T_945d45a8_7235_11ea_8f99_94e6f71c16efrow23_col1 {\n",
       "            background-color:  #fff5f0;\n",
       "            color:  #000000;\n",
       "        }    #T_945d45a8_7235_11ea_8f99_94e6f71c16efrow23_col2 {\n",
       "            background-color:  #fff5f0;\n",
       "            color:  #000000;\n",
       "        }    #T_945d45a8_7235_11ea_8f99_94e6f71c16efrow23_col3 {\n",
       "            background-color:  #fff5f0;\n",
       "            color:  #000000;\n",
       "        }    #T_945d45a8_7235_11ea_8f99_94e6f71c16efrow24_col1 {\n",
       "            background-color:  #fff5f0;\n",
       "            color:  #000000;\n",
       "        }    #T_945d45a8_7235_11ea_8f99_94e6f71c16efrow24_col2 {\n",
       "            background-color:  #fff5f0;\n",
       "            color:  #000000;\n",
       "        }    #T_945d45a8_7235_11ea_8f99_94e6f71c16efrow24_col3 {\n",
       "            background-color:  #fff5f0;\n",
       "            color:  #000000;\n",
       "        }</style><table id=\"T_945d45a8_7235_11ea_8f99_94e6f71c16ef\" ><thead>    <tr>        <th class=\"blank level0\" ></th>        <th class=\"col_heading level0 col0\" >Country/Region</th>        <th class=\"col_heading level0 col1\" >Confirmed</th>        <th class=\"col_heading level0 col2\" >Deaths</th>        <th class=\"col_heading level0 col3\" >Recovered</th>    </tr></thead><tbody>\n",
       "                <tr>\n",
       "                        <th id=\"T_945d45a8_7235_11ea_8f99_94e6f71c16eflevel0_row0\" class=\"row_heading level0 row0\" >0</th>\n",
       "                        <td id=\"T_945d45a8_7235_11ea_8f99_94e6f71c16efrow0_col0\" class=\"data row0 col0\" >Mainland China</td>\n",
       "                        <td id=\"T_945d45a8_7235_11ea_8f99_94e6f71c16efrow0_col1\" class=\"data row0 col1\" >67800.000000</td>\n",
       "                        <td id=\"T_945d45a8_7235_11ea_8f99_94e6f71c16efrow0_col2\" class=\"data row0 col2\" >3133.000000</td>\n",
       "                        <td id=\"T_945d45a8_7235_11ea_8f99_94e6f71c16efrow0_col3\" class=\"data row0 col3\" >58382.000000</td>\n",
       "            </tr>\n",
       "            <tr>\n",
       "                        <th id=\"T_945d45a8_7235_11ea_8f99_94e6f71c16eflevel0_row1\" class=\"row_heading level0 row1\" >1</th>\n",
       "                        <td id=\"T_945d45a8_7235_11ea_8f99_94e6f71c16efrow1_col0\" class=\"data row1 col0\" >Italy</td>\n",
       "                        <td id=\"T_945d45a8_7235_11ea_8f99_94e6f71c16efrow1_col1\" class=\"data row1 col1\" >47021.000000</td>\n",
       "                        <td id=\"T_945d45a8_7235_11ea_8f99_94e6f71c16efrow1_col2\" class=\"data row1 col2\" >4032.000000</td>\n",
       "                        <td id=\"T_945d45a8_7235_11ea_8f99_94e6f71c16efrow1_col3\" class=\"data row1 col3\" >4440.000000</td>\n",
       "            </tr>\n",
       "            <tr>\n",
       "                        <th id=\"T_945d45a8_7235_11ea_8f99_94e6f71c16eflevel0_row2\" class=\"row_heading level0 row2\" >2</th>\n",
       "                        <td id=\"T_945d45a8_7235_11ea_8f99_94e6f71c16efrow2_col0\" class=\"data row2 col0\" >Spain</td>\n",
       "                        <td id=\"T_945d45a8_7235_11ea_8f99_94e6f71c16efrow2_col1\" class=\"data row2 col1\" >20410.000000</td>\n",
       "                        <td id=\"T_945d45a8_7235_11ea_8f99_94e6f71c16efrow2_col2\" class=\"data row2 col2\" >1043.000000</td>\n",
       "                        <td id=\"T_945d45a8_7235_11ea_8f99_94e6f71c16efrow2_col3\" class=\"data row2 col3\" >1588.000000</td>\n",
       "            </tr>\n",
       "            <tr>\n",
       "                        <th id=\"T_945d45a8_7235_11ea_8f99_94e6f71c16eflevel0_row3\" class=\"row_heading level0 row3\" >3</th>\n",
       "                        <td id=\"T_945d45a8_7235_11ea_8f99_94e6f71c16efrow3_col0\" class=\"data row3 col0\" >Germany</td>\n",
       "                        <td id=\"T_945d45a8_7235_11ea_8f99_94e6f71c16efrow3_col1\" class=\"data row3 col1\" >19848.000000</td>\n",
       "                        <td id=\"T_945d45a8_7235_11ea_8f99_94e6f71c16efrow3_col2\" class=\"data row3 col2\" >67.000000</td>\n",
       "                        <td id=\"T_945d45a8_7235_11ea_8f99_94e6f71c16efrow3_col3\" class=\"data row3 col3\" >180.000000</td>\n",
       "            </tr>\n",
       "            <tr>\n",
       "                        <th id=\"T_945d45a8_7235_11ea_8f99_94e6f71c16eflevel0_row4\" class=\"row_heading level0 row4\" >4</th>\n",
       "                        <td id=\"T_945d45a8_7235_11ea_8f99_94e6f71c16efrow4_col0\" class=\"data row4 col0\" >Iran</td>\n",
       "                        <td id=\"T_945d45a8_7235_11ea_8f99_94e6f71c16efrow4_col1\" class=\"data row4 col1\" >19644.000000</td>\n",
       "                        <td id=\"T_945d45a8_7235_11ea_8f99_94e6f71c16efrow4_col2\" class=\"data row4 col2\" >1433.000000</td>\n",
       "                        <td id=\"T_945d45a8_7235_11ea_8f99_94e6f71c16efrow4_col3\" class=\"data row4 col3\" >6745.000000</td>\n",
       "            </tr>\n",
       "            <tr>\n",
       "                        <th id=\"T_945d45a8_7235_11ea_8f99_94e6f71c16eflevel0_row5\" class=\"row_heading level0 row5\" >5</th>\n",
       "                        <td id=\"T_945d45a8_7235_11ea_8f99_94e6f71c16efrow5_col0\" class=\"data row5 col0\" >France</td>\n",
       "                        <td id=\"T_945d45a8_7235_11ea_8f99_94e6f71c16efrow5_col1\" class=\"data row5 col1\" >12612.000000</td>\n",
       "                        <td id=\"T_945d45a8_7235_11ea_8f99_94e6f71c16efrow5_col2\" class=\"data row5 col2\" >450.000000</td>\n",
       "                        <td id=\"T_945d45a8_7235_11ea_8f99_94e6f71c16efrow5_col3\" class=\"data row5 col3\" >12.000000</td>\n",
       "            </tr>\n",
       "            <tr>\n",
       "                        <th id=\"T_945d45a8_7235_11ea_8f99_94e6f71c16eflevel0_row6\" class=\"row_heading level0 row6\" >6</th>\n",
       "                        <td id=\"T_945d45a8_7235_11ea_8f99_94e6f71c16efrow6_col0\" class=\"data row6 col0\" >South Korea</td>\n",
       "                        <td id=\"T_945d45a8_7235_11ea_8f99_94e6f71c16efrow6_col1\" class=\"data row6 col1\" >8652.000000</td>\n",
       "                        <td id=\"T_945d45a8_7235_11ea_8f99_94e6f71c16efrow6_col2\" class=\"data row6 col2\" >94.000000</td>\n",
       "                        <td id=\"T_945d45a8_7235_11ea_8f99_94e6f71c16efrow6_col3\" class=\"data row6 col3\" >1540.000000</td>\n",
       "            </tr>\n",
       "            <tr>\n",
       "                        <th id=\"T_945d45a8_7235_11ea_8f99_94e6f71c16eflevel0_row7\" class=\"row_heading level0 row7\" >7</th>\n",
       "                        <td id=\"T_945d45a8_7235_11ea_8f99_94e6f71c16efrow7_col0\" class=\"data row7 col0\" >US</td>\n",
       "                        <td id=\"T_945d45a8_7235_11ea_8f99_94e6f71c16efrow7_col1\" class=\"data row7 col1\" >8310.000000</td>\n",
       "                        <td id=\"T_945d45a8_7235_11ea_8f99_94e6f71c16efrow7_col2\" class=\"data row7 col2\" >42.000000</td>\n",
       "                        <td id=\"T_945d45a8_7235_11ea_8f99_94e6f71c16efrow7_col3\" class=\"data row7 col3\" >0.000000</td>\n",
       "            </tr>\n",
       "            <tr>\n",
       "                        <th id=\"T_945d45a8_7235_11ea_8f99_94e6f71c16eflevel0_row8\" class=\"row_heading level0 row8\" >8</th>\n",
       "                        <td id=\"T_945d45a8_7235_11ea_8f99_94e6f71c16efrow8_col0\" class=\"data row8 col0\" >Switzerland</td>\n",
       "                        <td id=\"T_945d45a8_7235_11ea_8f99_94e6f71c16efrow8_col1\" class=\"data row8 col1\" >5294.000000</td>\n",
       "                        <td id=\"T_945d45a8_7235_11ea_8f99_94e6f71c16efrow8_col2\" class=\"data row8 col2\" >54.000000</td>\n",
       "                        <td id=\"T_945d45a8_7235_11ea_8f99_94e6f71c16efrow8_col3\" class=\"data row8 col3\" >15.000000</td>\n",
       "            </tr>\n",
       "            <tr>\n",
       "                        <th id=\"T_945d45a8_7235_11ea_8f99_94e6f71c16eflevel0_row9\" class=\"row_heading level0 row9\" >9</th>\n",
       "                        <td id=\"T_945d45a8_7235_11ea_8f99_94e6f71c16efrow9_col0\" class=\"data row9 col0\" >UK</td>\n",
       "                        <td id=\"T_945d45a8_7235_11ea_8f99_94e6f71c16efrow9_col1\" class=\"data row9 col1\" >3983.000000</td>\n",
       "                        <td id=\"T_945d45a8_7235_11ea_8f99_94e6f71c16efrow9_col2\" class=\"data row9 col2\" >177.000000</td>\n",
       "                        <td id=\"T_945d45a8_7235_11ea_8f99_94e6f71c16efrow9_col3\" class=\"data row9 col3\" >65.000000</td>\n",
       "            </tr>\n",
       "            <tr>\n",
       "                        <th id=\"T_945d45a8_7235_11ea_8f99_94e6f71c16eflevel0_row10\" class=\"row_heading level0 row10\" >10</th>\n",
       "                        <td id=\"T_945d45a8_7235_11ea_8f99_94e6f71c16efrow10_col0\" class=\"data row10 col0\" >Netherlands</td>\n",
       "                        <td id=\"T_945d45a8_7235_11ea_8f99_94e6f71c16efrow10_col1\" class=\"data row10 col1\" >2994.000000</td>\n",
       "                        <td id=\"T_945d45a8_7235_11ea_8f99_94e6f71c16efrow10_col2\" class=\"data row10 col2\" >106.000000</td>\n",
       "                        <td id=\"T_945d45a8_7235_11ea_8f99_94e6f71c16efrow10_col3\" class=\"data row10 col3\" >2.000000</td>\n",
       "            </tr>\n",
       "            <tr>\n",
       "                        <th id=\"T_945d45a8_7235_11ea_8f99_94e6f71c16eflevel0_row11\" class=\"row_heading level0 row11\" >11</th>\n",
       "                        <td id=\"T_945d45a8_7235_11ea_8f99_94e6f71c16efrow11_col0\" class=\"data row11 col0\" >Austria</td>\n",
       "                        <td id=\"T_945d45a8_7235_11ea_8f99_94e6f71c16efrow11_col1\" class=\"data row11 col1\" >2388.000000</td>\n",
       "                        <td id=\"T_945d45a8_7235_11ea_8f99_94e6f71c16efrow11_col2\" class=\"data row11 col2\" >6.000000</td>\n",
       "                        <td id=\"T_945d45a8_7235_11ea_8f99_94e6f71c16efrow11_col3\" class=\"data row11 col3\" >9.000000</td>\n",
       "            </tr>\n",
       "            <tr>\n",
       "                        <th id=\"T_945d45a8_7235_11ea_8f99_94e6f71c16eflevel0_row12\" class=\"row_heading level0 row12\" >12</th>\n",
       "                        <td id=\"T_945d45a8_7235_11ea_8f99_94e6f71c16efrow12_col0\" class=\"data row12 col0\" >Belgium</td>\n",
       "                        <td id=\"T_945d45a8_7235_11ea_8f99_94e6f71c16efrow12_col1\" class=\"data row12 col1\" >2257.000000</td>\n",
       "                        <td id=\"T_945d45a8_7235_11ea_8f99_94e6f71c16efrow12_col2\" class=\"data row12 col2\" >37.000000</td>\n",
       "                        <td id=\"T_945d45a8_7235_11ea_8f99_94e6f71c16efrow12_col3\" class=\"data row12 col3\" >1.000000</td>\n",
       "            </tr>\n",
       "            <tr>\n",
       "                        <th id=\"T_945d45a8_7235_11ea_8f99_94e6f71c16eflevel0_row13\" class=\"row_heading level0 row13\" >13</th>\n",
       "                        <td id=\"T_945d45a8_7235_11ea_8f99_94e6f71c16efrow13_col0\" class=\"data row13 col0\" >Norway</td>\n",
       "                        <td id=\"T_945d45a8_7235_11ea_8f99_94e6f71c16efrow13_col1\" class=\"data row13 col1\" >1914.000000</td>\n",
       "                        <td id=\"T_945d45a8_7235_11ea_8f99_94e6f71c16efrow13_col2\" class=\"data row13 col2\" >7.000000</td>\n",
       "                        <td id=\"T_945d45a8_7235_11ea_8f99_94e6f71c16efrow13_col3\" class=\"data row13 col3\" >1.000000</td>\n",
       "            </tr>\n",
       "            <tr>\n",
       "                        <th id=\"T_945d45a8_7235_11ea_8f99_94e6f71c16eflevel0_row14\" class=\"row_heading level0 row14\" >14</th>\n",
       "                        <td id=\"T_945d45a8_7235_11ea_8f99_94e6f71c16efrow14_col0\" class=\"data row14 col0\" >Sweden</td>\n",
       "                        <td id=\"T_945d45a8_7235_11ea_8f99_94e6f71c16efrow14_col1\" class=\"data row14 col1\" >1639.000000</td>\n",
       "                        <td id=\"T_945d45a8_7235_11ea_8f99_94e6f71c16efrow14_col2\" class=\"data row14 col2\" >16.000000</td>\n",
       "                        <td id=\"T_945d45a8_7235_11ea_8f99_94e6f71c16efrow14_col3\" class=\"data row14 col3\" >16.000000</td>\n",
       "            </tr>\n",
       "            <tr>\n",
       "                        <th id=\"T_945d45a8_7235_11ea_8f99_94e6f71c16eflevel0_row15\" class=\"row_heading level0 row15\" >15</th>\n",
       "                        <td id=\"T_945d45a8_7235_11ea_8f99_94e6f71c16efrow15_col0\" class=\"data row15 col0\" >Denmark</td>\n",
       "                        <td id=\"T_945d45a8_7235_11ea_8f99_94e6f71c16efrow15_col1\" class=\"data row15 col1\" >1255.000000</td>\n",
       "                        <td id=\"T_945d45a8_7235_11ea_8f99_94e6f71c16efrow15_col2\" class=\"data row15 col2\" >9.000000</td>\n",
       "                        <td id=\"T_945d45a8_7235_11ea_8f99_94e6f71c16efrow15_col3\" class=\"data row15 col3\" >1.000000</td>\n",
       "            </tr>\n",
       "            <tr>\n",
       "                        <th id=\"T_945d45a8_7235_11ea_8f99_94e6f71c16eflevel0_row16\" class=\"row_heading level0 row16\" >16</th>\n",
       "                        <td id=\"T_945d45a8_7235_11ea_8f99_94e6f71c16efrow16_col0\" class=\"data row16 col0\" >Malaysia</td>\n",
       "                        <td id=\"T_945d45a8_7235_11ea_8f99_94e6f71c16efrow16_col1\" class=\"data row16 col1\" >1030.000000</td>\n",
       "                        <td id=\"T_945d45a8_7235_11ea_8f99_94e6f71c16efrow16_col2\" class=\"data row16 col2\" >3.000000</td>\n",
       "                        <td id=\"T_945d45a8_7235_11ea_8f99_94e6f71c16efrow16_col3\" class=\"data row16 col3\" >87.000000</td>\n",
       "            </tr>\n",
       "            <tr>\n",
       "                        <th id=\"T_945d45a8_7235_11ea_8f99_94e6f71c16eflevel0_row17\" class=\"row_heading level0 row17\" >17</th>\n",
       "                        <td id=\"T_945d45a8_7235_11ea_8f99_94e6f71c16efrow17_col0\" class=\"data row17 col0\" >Portugal</td>\n",
       "                        <td id=\"T_945d45a8_7235_11ea_8f99_94e6f71c16efrow17_col1\" class=\"data row17 col1\" >1020.000000</td>\n",
       "                        <td id=\"T_945d45a8_7235_11ea_8f99_94e6f71c16efrow17_col2\" class=\"data row17 col2\" >6.000000</td>\n",
       "                        <td id=\"T_945d45a8_7235_11ea_8f99_94e6f71c16efrow17_col3\" class=\"data row17 col3\" >5.000000</td>\n",
       "            </tr>\n",
       "            <tr>\n",
       "                        <th id=\"T_945d45a8_7235_11ea_8f99_94e6f71c16eflevel0_row18\" class=\"row_heading level0 row18\" >18</th>\n",
       "                        <td id=\"T_945d45a8_7235_11ea_8f99_94e6f71c16efrow18_col0\" class=\"data row18 col0\" >Japan</td>\n",
       "                        <td id=\"T_945d45a8_7235_11ea_8f99_94e6f71c16efrow18_col1\" class=\"data row18 col1\" >963.000000</td>\n",
       "                        <td id=\"T_945d45a8_7235_11ea_8f99_94e6f71c16efrow18_col2\" class=\"data row18 col2\" >33.000000</td>\n",
       "                        <td id=\"T_945d45a8_7235_11ea_8f99_94e6f71c16efrow18_col3\" class=\"data row18 col3\" >191.000000</td>\n",
       "            </tr>\n",
       "            <tr>\n",
       "                        <th id=\"T_945d45a8_7235_11ea_8f99_94e6f71c16eflevel0_row19\" class=\"row_heading level0 row19\" >19</th>\n",
       "                        <td id=\"T_945d45a8_7235_11ea_8f99_94e6f71c16efrow19_col0\" class=\"data row19 col0\" >Czech Republic</td>\n",
       "                        <td id=\"T_945d45a8_7235_11ea_8f99_94e6f71c16efrow19_col1\" class=\"data row19 col1\" >833.000000</td>\n",
       "                        <td id=\"T_945d45a8_7235_11ea_8f99_94e6f71c16efrow19_col2\" class=\"data row19 col2\" >0.000000</td>\n",
       "                        <td id=\"T_945d45a8_7235_11ea_8f99_94e6f71c16efrow19_col3\" class=\"data row19 col3\" >4.000000</td>\n",
       "            </tr>\n",
       "            <tr>\n",
       "                        <th id=\"T_945d45a8_7235_11ea_8f99_94e6f71c16eflevel0_row20\" class=\"row_heading level0 row20\" >20</th>\n",
       "                        <td id=\"T_945d45a8_7235_11ea_8f99_94e6f71c16efrow20_col0\" class=\"data row20 col0\" >Brazil</td>\n",
       "                        <td id=\"T_945d45a8_7235_11ea_8f99_94e6f71c16efrow20_col1\" class=\"data row20 col1\" >793.000000</td>\n",
       "                        <td id=\"T_945d45a8_7235_11ea_8f99_94e6f71c16efrow20_col2\" class=\"data row20 col2\" >11.000000</td>\n",
       "                        <td id=\"T_945d45a8_7235_11ea_8f99_94e6f71c16efrow20_col3\" class=\"data row20 col3\" >2.000000</td>\n",
       "            </tr>\n",
       "            <tr>\n",
       "                        <th id=\"T_945d45a8_7235_11ea_8f99_94e6f71c16eflevel0_row21\" class=\"row_heading level0 row21\" >21</th>\n",
       "                        <td id=\"T_945d45a8_7235_11ea_8f99_94e6f71c16efrow21_col0\" class=\"data row21 col0\" >Others</td>\n",
       "                        <td id=\"T_945d45a8_7235_11ea_8f99_94e6f71c16efrow21_col1\" class=\"data row21 col1\" >712.000000</td>\n",
       "                        <td id=\"T_945d45a8_7235_11ea_8f99_94e6f71c16efrow21_col2\" class=\"data row21 col2\" >7.000000</td>\n",
       "                        <td id=\"T_945d45a8_7235_11ea_8f99_94e6f71c16efrow21_col3\" class=\"data row21 col3\" >325.000000</td>\n",
       "            </tr>\n",
       "            <tr>\n",
       "                        <th id=\"T_945d45a8_7235_11ea_8f99_94e6f71c16eflevel0_row22\" class=\"row_heading level0 row22\" >22</th>\n",
       "                        <td id=\"T_945d45a8_7235_11ea_8f99_94e6f71c16efrow22_col0\" class=\"data row22 col0\" >Israel</td>\n",
       "                        <td id=\"T_945d45a8_7235_11ea_8f99_94e6f71c16efrow22_col1\" class=\"data row22 col1\" >705.000000</td>\n",
       "                        <td id=\"T_945d45a8_7235_11ea_8f99_94e6f71c16efrow22_col2\" class=\"data row22 col2\" >0.000000</td>\n",
       "                        <td id=\"T_945d45a8_7235_11ea_8f99_94e6f71c16efrow22_col3\" class=\"data row22 col3\" >14.000000</td>\n",
       "            </tr>\n",
       "            <tr>\n",
       "                        <th id=\"T_945d45a8_7235_11ea_8f99_94e6f71c16eflevel0_row23\" class=\"row_heading level0 row23\" >23</th>\n",
       "                        <td id=\"T_945d45a8_7235_11ea_8f99_94e6f71c16efrow23_col0\" class=\"data row23 col0\" >Ireland</td>\n",
       "                        <td id=\"T_945d45a8_7235_11ea_8f99_94e6f71c16efrow23_col1\" class=\"data row23 col1\" >683.000000</td>\n",
       "                        <td id=\"T_945d45a8_7235_11ea_8f99_94e6f71c16efrow23_col2\" class=\"data row23 col2\" >3.000000</td>\n",
       "                        <td id=\"T_945d45a8_7235_11ea_8f99_94e6f71c16efrow23_col3\" class=\"data row23 col3\" >5.000000</td>\n",
       "            </tr>\n",
       "            <tr>\n",
       "                        <th id=\"T_945d45a8_7235_11ea_8f99_94e6f71c16eflevel0_row24\" class=\"row_heading level0 row24\" >24</th>\n",
       "                        <td id=\"T_945d45a8_7235_11ea_8f99_94e6f71c16efrow24_col0\" class=\"data row24 col0\" >Pakistan</td>\n",
       "                        <td id=\"T_945d45a8_7235_11ea_8f99_94e6f71c16efrow24_col1\" class=\"data row24 col1\" >501.000000</td>\n",
       "                        <td id=\"T_945d45a8_7235_11ea_8f99_94e6f71c16efrow24_col2\" class=\"data row24 col2\" >3.000000</td>\n",
       "                        <td id=\"T_945d45a8_7235_11ea_8f99_94e6f71c16efrow24_col3\" class=\"data row24 col3\" >13.000000</td>\n",
       "            </tr>\n",
       "    </tbody></table>"
      ],
      "text/plain": [
       "<pandas.io.formats.style.Styler at 0x174ea040d48>"
      ]
     },
     "execution_count": 447,
     "metadata": {},
     "output_type": "execute_result"
    }
   ],
   "source": [
    "countrywise_df = covid_19_df.sort_values(by='Confirmed', ascending=False).groupby('Country/Region').head(1).reset_index(drop=True)\n",
    "countrywise_df_clean = countrywise_df[['Country/Region', 'Confirmed', 'Deaths', 'Recovered']].head(25).style.background_gradient(cmap='Reds')\n",
    "countrywise_df_clean"
   ]
  },
  {
   "cell_type": "markdown",
   "metadata": {},
   "source": [
    "## Analysis with custom functions (15 points) \n",
    "Includes at least 2 custom functions. These may perform a custom analysis or data manipulation/cleaning operation. Functions that mimic built-in Numpy or Pandas functions are also acceptable. You may integrate these functions in other steps of the analysis. If this is the case, specify below in which section of the notebook you used a custom function."
   ]
  },
  {
   "cell_type": "markdown",
   "metadata": {},
   "source": [
    "#### Find people still hospitalized\n",
    "\n",
    "##### To find people who are still hospitalized:\n",
    "1. Find the difference between confirmed,deaths and recovered\n",
    "2. Appending a new column intreatment to see who are all hospitalized"
   ]
  },
  {
   "cell_type": "code",
   "execution_count": 384,
   "metadata": {},
   "outputs": [
    {
     "data": {
      "text/html": [
       "<div>\n",
       "<style scoped>\n",
       "    .dataframe tbody tr th:only-of-type {\n",
       "        vertical-align: middle;\n",
       "    }\n",
       "\n",
       "    .dataframe tbody tr th {\n",
       "        vertical-align: top;\n",
       "    }\n",
       "\n",
       "    .dataframe thead th {\n",
       "        text-align: right;\n",
       "    }\n",
       "</style>\n",
       "<table border=\"1\" class=\"dataframe\">\n",
       "  <thead>\n",
       "    <tr style=\"text-align: right;\">\n",
       "      <th></th>\n",
       "      <th>SNo</th>\n",
       "      <th>ObservationDate</th>\n",
       "      <th>Province/State</th>\n",
       "      <th>Country/Region</th>\n",
       "      <th>Last Update</th>\n",
       "      <th>Confirmed</th>\n",
       "      <th>Deaths</th>\n",
       "      <th>Recovered</th>\n",
       "    </tr>\n",
       "  </thead>\n",
       "  <tbody>\n",
       "    <tr>\n",
       "      <th>0</th>\n",
       "      <td>7015</td>\n",
       "      <td>03/20/2020</td>\n",
       "      <td>Hubei</td>\n",
       "      <td>Mainland China</td>\n",
       "      <td>2020-03-20T07:43:02</td>\n",
       "      <td>67800</td>\n",
       "      <td>3133</td>\n",
       "      <td>58382</td>\n",
       "    </tr>\n",
       "    <tr>\n",
       "      <th>1</th>\n",
       "      <td>7016</td>\n",
       "      <td>03/20/2020</td>\n",
       "      <td></td>\n",
       "      <td>Italy</td>\n",
       "      <td>2020-03-20T17:43:03</td>\n",
       "      <td>47021</td>\n",
       "      <td>4032</td>\n",
       "      <td>4440</td>\n",
       "    </tr>\n",
       "    <tr>\n",
       "      <th>2</th>\n",
       "      <td>7017</td>\n",
       "      <td>03/20/2020</td>\n",
       "      <td></td>\n",
       "      <td>Spain</td>\n",
       "      <td>2020-03-20T17:43:03</td>\n",
       "      <td>20410</td>\n",
       "      <td>1043</td>\n",
       "      <td>1588</td>\n",
       "    </tr>\n",
       "    <tr>\n",
       "      <th>3</th>\n",
       "      <td>7018</td>\n",
       "      <td>03/20/2020</td>\n",
       "      <td></td>\n",
       "      <td>Germany</td>\n",
       "      <td>2020-03-20T20:13:15</td>\n",
       "      <td>19848</td>\n",
       "      <td>67</td>\n",
       "      <td>180</td>\n",
       "    </tr>\n",
       "    <tr>\n",
       "      <th>4</th>\n",
       "      <td>7019</td>\n",
       "      <td>03/20/2020</td>\n",
       "      <td></td>\n",
       "      <td>Iran</td>\n",
       "      <td>2020-03-20T15:13:21</td>\n",
       "      <td>19644</td>\n",
       "      <td>1433</td>\n",
       "      <td>6745</td>\n",
       "    </tr>\n",
       "  </tbody>\n",
       "</table>\n",
       "</div>"
      ],
      "text/plain": [
       "    SNo ObservationDate Province/State  Country/Region          Last Update  \\\n",
       "0  7015      03/20/2020          Hubei  Mainland China  2020-03-20T07:43:02   \n",
       "1  7016      03/20/2020                          Italy  2020-03-20T17:43:03   \n",
       "2  7017      03/20/2020                          Spain  2020-03-20T17:43:03   \n",
       "3  7018      03/20/2020                        Germany  2020-03-20T20:13:15   \n",
       "4  7019      03/20/2020                           Iran  2020-03-20T15:13:21   \n",
       "\n",
       "   Confirmed  Deaths  Recovered  \n",
       "0      67800    3133      58382  \n",
       "1      47021    4032       4440  \n",
       "2      20410    1043       1588  \n",
       "3      19848      67        180  \n",
       "4      19644    1433       6745  "
      ]
     },
     "execution_count": 384,
     "metadata": {},
     "output_type": "execute_result"
    }
   ],
   "source": [
    "countrywise_df.head()"
   ]
  },
  {
   "cell_type": "code",
   "execution_count": 385,
   "metadata": {},
   "outputs": [
    {
     "data": {
      "text/html": [
       "<div>\n",
       "<style scoped>\n",
       "    .dataframe tbody tr th:only-of-type {\n",
       "        vertical-align: middle;\n",
       "    }\n",
       "\n",
       "    .dataframe tbody tr th {\n",
       "        vertical-align: top;\n",
       "    }\n",
       "\n",
       "    .dataframe thead th {\n",
       "        text-align: right;\n",
       "    }\n",
       "</style>\n",
       "<table border=\"1\" class=\"dataframe\">\n",
       "  <thead>\n",
       "    <tr style=\"text-align: right;\">\n",
       "      <th></th>\n",
       "      <th>SNo</th>\n",
       "      <th>ObservationDate</th>\n",
       "      <th>Province/State</th>\n",
       "      <th>Country/Region</th>\n",
       "      <th>Last Update</th>\n",
       "      <th>Confirmed</th>\n",
       "      <th>Deaths</th>\n",
       "      <th>Recovered</th>\n",
       "      <th>inTreatment</th>\n",
       "    </tr>\n",
       "  </thead>\n",
       "  <tbody>\n",
       "    <tr>\n",
       "      <th>1</th>\n",
       "      <td>7016</td>\n",
       "      <td>03/20/2020</td>\n",
       "      <td></td>\n",
       "      <td>Italy</td>\n",
       "      <td>2020-03-20T17:43:03</td>\n",
       "      <td>47021</td>\n",
       "      <td>4032</td>\n",
       "      <td>4440</td>\n",
       "      <td>38549</td>\n",
       "    </tr>\n",
       "    <tr>\n",
       "      <th>3</th>\n",
       "      <td>7018</td>\n",
       "      <td>03/20/2020</td>\n",
       "      <td></td>\n",
       "      <td>Germany</td>\n",
       "      <td>2020-03-20T20:13:15</td>\n",
       "      <td>19848</td>\n",
       "      <td>67</td>\n",
       "      <td>180</td>\n",
       "      <td>19601</td>\n",
       "    </tr>\n",
       "    <tr>\n",
       "      <th>2</th>\n",
       "      <td>7017</td>\n",
       "      <td>03/20/2020</td>\n",
       "      <td></td>\n",
       "      <td>Spain</td>\n",
       "      <td>2020-03-20T17:43:03</td>\n",
       "      <td>20410</td>\n",
       "      <td>1043</td>\n",
       "      <td>1588</td>\n",
       "      <td>17779</td>\n",
       "    </tr>\n",
       "    <tr>\n",
       "      <th>5</th>\n",
       "      <td>7020</td>\n",
       "      <td>03/20/2020</td>\n",
       "      <td>France</td>\n",
       "      <td>France</td>\n",
       "      <td>2020-03-20T22:43:03</td>\n",
       "      <td>12612</td>\n",
       "      <td>450</td>\n",
       "      <td>12</td>\n",
       "      <td>12150</td>\n",
       "    </tr>\n",
       "    <tr>\n",
       "      <th>4</th>\n",
       "      <td>7019</td>\n",
       "      <td>03/20/2020</td>\n",
       "      <td></td>\n",
       "      <td>Iran</td>\n",
       "      <td>2020-03-20T15:13:21</td>\n",
       "      <td>19644</td>\n",
       "      <td>1433</td>\n",
       "      <td>6745</td>\n",
       "      <td>11466</td>\n",
       "    </tr>\n",
       "    <tr>\n",
       "      <th>7</th>\n",
       "      <td>7022</td>\n",
       "      <td>03/20/2020</td>\n",
       "      <td>New York</td>\n",
       "      <td>US</td>\n",
       "      <td>2020-03-20T22:14:43</td>\n",
       "      <td>8310</td>\n",
       "      <td>42</td>\n",
       "      <td>0</td>\n",
       "      <td>8268</td>\n",
       "    </tr>\n",
       "    <tr>\n",
       "      <th>6</th>\n",
       "      <td>7021</td>\n",
       "      <td>03/20/2020</td>\n",
       "      <td></td>\n",
       "      <td>South Korea</td>\n",
       "      <td>2020-03-20T02:13:46</td>\n",
       "      <td>8652</td>\n",
       "      <td>94</td>\n",
       "      <td>1540</td>\n",
       "      <td>7018</td>\n",
       "    </tr>\n",
       "    <tr>\n",
       "      <th>0</th>\n",
       "      <td>7015</td>\n",
       "      <td>03/20/2020</td>\n",
       "      <td>Hubei</td>\n",
       "      <td>Mainland China</td>\n",
       "      <td>2020-03-20T07:43:02</td>\n",
       "      <td>67800</td>\n",
       "      <td>3133</td>\n",
       "      <td>58382</td>\n",
       "      <td>6285</td>\n",
       "    </tr>\n",
       "    <tr>\n",
       "      <th>8</th>\n",
       "      <td>7023</td>\n",
       "      <td>03/20/2020</td>\n",
       "      <td></td>\n",
       "      <td>Switzerland</td>\n",
       "      <td>2020-03-20T18:13:09</td>\n",
       "      <td>5294</td>\n",
       "      <td>54</td>\n",
       "      <td>15</td>\n",
       "      <td>5225</td>\n",
       "    </tr>\n",
       "    <tr>\n",
       "      <th>9</th>\n",
       "      <td>7024</td>\n",
       "      <td>03/20/2020</td>\n",
       "      <td>United Kingdom</td>\n",
       "      <td>UK</td>\n",
       "      <td>2020-03-20T20:13:18</td>\n",
       "      <td>3983</td>\n",
       "      <td>177</td>\n",
       "      <td>65</td>\n",
       "      <td>3741</td>\n",
       "    </tr>\n",
       "  </tbody>\n",
       "</table>\n",
       "</div>"
      ],
      "text/plain": [
       "    SNo ObservationDate  Province/State  Country/Region          Last Update  \\\n",
       "1  7016      03/20/2020                           Italy  2020-03-20T17:43:03   \n",
       "3  7018      03/20/2020                         Germany  2020-03-20T20:13:15   \n",
       "2  7017      03/20/2020                           Spain  2020-03-20T17:43:03   \n",
       "5  7020      03/20/2020          France          France  2020-03-20T22:43:03   \n",
       "4  7019      03/20/2020                            Iran  2020-03-20T15:13:21   \n",
       "7  7022      03/20/2020        New York              US  2020-03-20T22:14:43   \n",
       "6  7021      03/20/2020                     South Korea  2020-03-20T02:13:46   \n",
       "0  7015      03/20/2020           Hubei  Mainland China  2020-03-20T07:43:02   \n",
       "8  7023      03/20/2020                     Switzerland  2020-03-20T18:13:09   \n",
       "9  7024      03/20/2020  United Kingdom              UK  2020-03-20T20:13:18   \n",
       "\n",
       "   Confirmed  Deaths  Recovered  inTreatment  \n",
       "1      47021    4032       4440        38549  \n",
       "3      19848      67        180        19601  \n",
       "2      20410    1043       1588        17779  \n",
       "5      12612     450         12        12150  \n",
       "4      19644    1433       6745        11466  \n",
       "7       8310      42          0         8268  \n",
       "6       8652      94       1540         7018  \n",
       "0      67800    3133      58382         6285  \n",
       "8       5294      54         15         5225  \n",
       "9       3983     177         65         3741  "
      ]
     },
     "execution_count": 385,
     "metadata": {},
     "output_type": "execute_result"
    }
   ],
   "source": [
    "\n",
    "def inTreatment(dataf):\n",
    "    val = dataf['Confirmed'] - dataf['Deaths'] - dataf['Recovered']\n",
    "    return val\n",
    "\n",
    "countrywise_df['inTreatment'] = countrywise_df.apply(lambda row:inTreatment(row), axis=1)\n",
    "countrywise_df.sort_values(by='inTreatment', ascending=False).head(10)"
   ]
  },
  {
   "cell_type": "markdown",
   "metadata": {},
   "source": [
    "#### Second custom function to fill out empty provinces to its country name when its found empty\n",
    "For computation purposes"
   ]
  },
  {
   "cell_type": "code",
   "execution_count": 386,
   "metadata": {},
   "outputs": [
    {
     "data": {
      "text/html": [
       "<div>\n",
       "<style scoped>\n",
       "    .dataframe tbody tr th:only-of-type {\n",
       "        vertical-align: middle;\n",
       "    }\n",
       "\n",
       "    .dataframe tbody tr th {\n",
       "        vertical-align: top;\n",
       "    }\n",
       "\n",
       "    .dataframe thead th {\n",
       "        text-align: right;\n",
       "    }\n",
       "</style>\n",
       "<table border=\"1\" class=\"dataframe\">\n",
       "  <thead>\n",
       "    <tr style=\"text-align: right;\">\n",
       "      <th></th>\n",
       "      <th>SNo</th>\n",
       "      <th>ObservationDate</th>\n",
       "      <th>Province/State</th>\n",
       "      <th>Country/Region</th>\n",
       "      <th>Last Update</th>\n",
       "      <th>Confirmed</th>\n",
       "      <th>Deaths</th>\n",
       "      <th>Recovered</th>\n",
       "      <th>inTreatment</th>\n",
       "    </tr>\n",
       "  </thead>\n",
       "  <tbody>\n",
       "    <tr>\n",
       "      <th>103</th>\n",
       "      <td>7197</td>\n",
       "      <td>03/20/2020</td>\n",
       "      <td>Afghanistan</td>\n",
       "      <td>Afghanistan</td>\n",
       "      <td>2020-03-20T14:43:04</td>\n",
       "      <td>24</td>\n",
       "      <td>0</td>\n",
       "      <td>1</td>\n",
       "      <td>23</td>\n",
       "    </tr>\n",
       "    <tr>\n",
       "      <th>79</th>\n",
       "      <td>7158</td>\n",
       "      <td>03/20/2020</td>\n",
       "      <td>Albania</td>\n",
       "      <td>Albania</td>\n",
       "      <td>2020-03-20T15:13:21</td>\n",
       "      <td>70</td>\n",
       "      <td>2</td>\n",
       "      <td>0</td>\n",
       "      <td>68</td>\n",
       "    </tr>\n",
       "    <tr>\n",
       "      <th>69</th>\n",
       "      <td>7138</td>\n",
       "      <td>03/20/2020</td>\n",
       "      <td>Algeria</td>\n",
       "      <td>Algeria</td>\n",
       "      <td>2020-03-20T15:43:24</td>\n",
       "      <td>90</td>\n",
       "      <td>11</td>\n",
       "      <td>32</td>\n",
       "      <td>47</td>\n",
       "    </tr>\n",
       "    <tr>\n",
       "      <th>76</th>\n",
       "      <td>7152</td>\n",
       "      <td>03/20/2020</td>\n",
       "      <td>Andorra</td>\n",
       "      <td>Andorra</td>\n",
       "      <td>2020-03-20T15:13:21</td>\n",
       "      <td>75</td>\n",
       "      <td>0</td>\n",
       "      <td>1</td>\n",
       "      <td>74</td>\n",
       "    </tr>\n",
       "    <tr>\n",
       "      <th>171</th>\n",
       "      <td>7278</td>\n",
       "      <td>03/20/2020</td>\n",
       "      <td>Angola</td>\n",
       "      <td>Angola</td>\n",
       "      <td>2020-03-20T10:13:38</td>\n",
       "      <td>1</td>\n",
       "      <td>0</td>\n",
       "      <td>0</td>\n",
       "      <td>1</td>\n",
       "    </tr>\n",
       "    <tr>\n",
       "      <th>172</th>\n",
       "      <td>5275</td>\n",
       "      <td>03/13/2020</td>\n",
       "      <td>Antigua and Barbuda</td>\n",
       "      <td>Antigua and Barbuda</td>\n",
       "      <td>2020-03-11T20:00:00</td>\n",
       "      <td>1</td>\n",
       "      <td>0</td>\n",
       "      <td>0</td>\n",
       "      <td>1</td>\n",
       "    </tr>\n",
       "    <tr>\n",
       "      <th>63</th>\n",
       "      <td>7122</td>\n",
       "      <td>03/20/2020</td>\n",
       "      <td>Argentina</td>\n",
       "      <td>Argentina</td>\n",
       "      <td>2020-03-20T02:43:10</td>\n",
       "      <td>128</td>\n",
       "      <td>3</td>\n",
       "      <td>3</td>\n",
       "      <td>122</td>\n",
       "    </tr>\n",
       "    <tr>\n",
       "      <th>59</th>\n",
       "      <td>7117</td>\n",
       "      <td>03/20/2020</td>\n",
       "      <td>Armenia</td>\n",
       "      <td>Armenia</td>\n",
       "      <td>2020-03-20T14:43:04</td>\n",
       "      <td>136</td>\n",
       "      <td>0</td>\n",
       "      <td>1</td>\n",
       "      <td>135</td>\n",
       "    </tr>\n",
       "    <tr>\n",
       "      <th>138</th>\n",
       "      <td>6660</td>\n",
       "      <td>03/18/2020</td>\n",
       "      <td>Aruba</td>\n",
       "      <td>Aruba</td>\n",
       "      <td>2020-03-18T11:53:04</td>\n",
       "      <td>4</td>\n",
       "      <td>0</td>\n",
       "      <td>0</td>\n",
       "      <td>4</td>\n",
       "    </tr>\n",
       "    <tr>\n",
       "      <th>11</th>\n",
       "      <td>7026</td>\n",
       "      <td>03/20/2020</td>\n",
       "      <td>Austria</td>\n",
       "      <td>Austria</td>\n",
       "      <td>2020-03-20T15:43:24</td>\n",
       "      <td>2388</td>\n",
       "      <td>6</td>\n",
       "      <td>9</td>\n",
       "      <td>2373</td>\n",
       "    </tr>\n",
       "    <tr>\n",
       "      <th>91</th>\n",
       "      <td>6874</td>\n",
       "      <td>03/19/2020</td>\n",
       "      <td>Azerbaijan</td>\n",
       "      <td>Azerbaijan</td>\n",
       "      <td>2020-03-19T16:13:36</td>\n",
       "      <td>44</td>\n",
       "      <td>1</td>\n",
       "      <td>6</td>\n",
       "      <td>37</td>\n",
       "    </tr>\n",
       "    <tr>\n",
       "      <th>147</th>\n",
       "      <td>7255</td>\n",
       "      <td>03/20/2020</td>\n",
       "      <td>Bahamas, The</td>\n",
       "      <td>Bahamas, The</td>\n",
       "      <td>2020-03-19T11:33:39</td>\n",
       "      <td>3</td>\n",
       "      <td>0</td>\n",
       "      <td>0</td>\n",
       "      <td>3</td>\n",
       "    </tr>\n",
       "    <tr>\n",
       "      <th>42</th>\n",
       "      <td>7084</td>\n",
       "      <td>03/20/2020</td>\n",
       "      <td>Bahrain</td>\n",
       "      <td>Bahrain</td>\n",
       "      <td>2020-03-20T14:43:04</td>\n",
       "      <td>285</td>\n",
       "      <td>1</td>\n",
       "      <td>100</td>\n",
       "      <td>184</td>\n",
       "    </tr>\n",
       "    <tr>\n",
       "      <th>108</th>\n",
       "      <td>7201</td>\n",
       "      <td>03/20/2020</td>\n",
       "      <td>Bangladesh</td>\n",
       "      <td>Bangladesh</td>\n",
       "      <td>2020-03-20T15:13:21</td>\n",
       "      <td>20</td>\n",
       "      <td>1</td>\n",
       "      <td>3</td>\n",
       "      <td>16</td>\n",
       "    </tr>\n",
       "    <tr>\n",
       "      <th>136</th>\n",
       "      <td>6949</td>\n",
       "      <td>03/19/2020</td>\n",
       "      <td>Barbados</td>\n",
       "      <td>Barbados</td>\n",
       "      <td>2020-03-19T20:43:03</td>\n",
       "      <td>5</td>\n",
       "      <td>0</td>\n",
       "      <td>0</td>\n",
       "      <td>5</td>\n",
       "    </tr>\n",
       "    <tr>\n",
       "      <th>80</th>\n",
       "      <td>7159</td>\n",
       "      <td>03/20/2020</td>\n",
       "      <td>Belarus</td>\n",
       "      <td>Belarus</td>\n",
       "      <td>2020-03-20T14:43:04</td>\n",
       "      <td>69</td>\n",
       "      <td>0</td>\n",
       "      <td>5</td>\n",
       "      <td>64</td>\n",
       "    </tr>\n",
       "    <tr>\n",
       "      <th>12</th>\n",
       "      <td>7027</td>\n",
       "      <td>03/20/2020</td>\n",
       "      <td>Belgium</td>\n",
       "      <td>Belgium</td>\n",
       "      <td>2020-03-20T14:43:04</td>\n",
       "      <td>2257</td>\n",
       "      <td>37</td>\n",
       "      <td>1</td>\n",
       "      <td>2219</td>\n",
       "    </tr>\n",
       "    <tr>\n",
       "      <th>151</th>\n",
       "      <td>6676</td>\n",
       "      <td>03/18/2020</td>\n",
       "      <td>Benin</td>\n",
       "      <td>Benin</td>\n",
       "      <td>2020-03-18T14:13:56</td>\n",
       "      <td>2</td>\n",
       "      <td>0</td>\n",
       "      <td>0</td>\n",
       "      <td>2</td>\n",
       "    </tr>\n",
       "    <tr>\n",
       "      <th>152</th>\n",
       "      <td>7266</td>\n",
       "      <td>03/20/2020</td>\n",
       "      <td>Bhutan</td>\n",
       "      <td>Bhutan</td>\n",
       "      <td>2020-03-20T14:13:37</td>\n",
       "      <td>2</td>\n",
       "      <td>0</td>\n",
       "      <td>0</td>\n",
       "      <td>2</td>\n",
       "    </tr>\n",
       "    <tr>\n",
       "      <th>116</th>\n",
       "      <td>7214</td>\n",
       "      <td>03/20/2020</td>\n",
       "      <td>Bolivia</td>\n",
       "      <td>Bolivia</td>\n",
       "      <td>2020-03-20T02:43:10</td>\n",
       "      <td>15</td>\n",
       "      <td>0</td>\n",
       "      <td>0</td>\n",
       "      <td>15</td>\n",
       "    </tr>\n",
       "  </tbody>\n",
       "</table>\n",
       "</div>"
      ],
      "text/plain": [
       "      SNo ObservationDate       Province/State       Country/Region  \\\n",
       "103  7197      03/20/2020          Afghanistan          Afghanistan   \n",
       "79   7158      03/20/2020              Albania              Albania   \n",
       "69   7138      03/20/2020              Algeria              Algeria   \n",
       "76   7152      03/20/2020              Andorra              Andorra   \n",
       "171  7278      03/20/2020               Angola               Angola   \n",
       "172  5275      03/13/2020  Antigua and Barbuda  Antigua and Barbuda   \n",
       "63   7122      03/20/2020            Argentina            Argentina   \n",
       "59   7117      03/20/2020              Armenia              Armenia   \n",
       "138  6660      03/18/2020                Aruba                Aruba   \n",
       "11   7026      03/20/2020              Austria              Austria   \n",
       "91   6874      03/19/2020           Azerbaijan           Azerbaijan   \n",
       "147  7255      03/20/2020         Bahamas, The         Bahamas, The   \n",
       "42   7084      03/20/2020              Bahrain              Bahrain   \n",
       "108  7201      03/20/2020           Bangladesh           Bangladesh   \n",
       "136  6949      03/19/2020             Barbados             Barbados   \n",
       "80   7159      03/20/2020              Belarus              Belarus   \n",
       "12   7027      03/20/2020              Belgium              Belgium   \n",
       "151  6676      03/18/2020                Benin                Benin   \n",
       "152  7266      03/20/2020               Bhutan               Bhutan   \n",
       "116  7214      03/20/2020              Bolivia              Bolivia   \n",
       "\n",
       "             Last Update  Confirmed  Deaths  Recovered  inTreatment  \n",
       "103  2020-03-20T14:43:04         24       0          1           23  \n",
       "79   2020-03-20T15:13:21         70       2          0           68  \n",
       "69   2020-03-20T15:43:24         90      11         32           47  \n",
       "76   2020-03-20T15:13:21         75       0          1           74  \n",
       "171  2020-03-20T10:13:38          1       0          0            1  \n",
       "172  2020-03-11T20:00:00          1       0          0            1  \n",
       "63   2020-03-20T02:43:10        128       3          3          122  \n",
       "59   2020-03-20T14:43:04        136       0          1          135  \n",
       "138  2020-03-18T11:53:04          4       0          0            4  \n",
       "11   2020-03-20T15:43:24       2388       6          9         2373  \n",
       "91   2020-03-19T16:13:36         44       1          6           37  \n",
       "147  2020-03-19T11:33:39          3       0          0            3  \n",
       "42   2020-03-20T14:43:04        285       1        100          184  \n",
       "108  2020-03-20T15:13:21         20       1          3           16  \n",
       "136  2020-03-19T20:43:03          5       0          0            5  \n",
       "80   2020-03-20T14:43:04         69       0          5           64  \n",
       "12   2020-03-20T14:43:04       2257      37          1         2219  \n",
       "151  2020-03-18T14:13:56          2       0          0            2  \n",
       "152  2020-03-20T14:13:37          2       0          0            2  \n",
       "116  2020-03-20T02:43:10         15       0          0           15  "
      ]
     },
     "execution_count": 386,
     "metadata": {},
     "output_type": "execute_result"
    }
   ],
   "source": [
    "\n",
    "def setprovince(dataf):\n",
    "    if not dataf['Province/State']:\n",
    "        return dataf['Country/Region']\n",
    "    else:\n",
    "        return dataf['Province/State']\n",
    "    \n",
    "countrywise_df['Province/State'] = countrywise_df.apply(lambda row:setprovince(row), axis=1)\n",
    "countrywise_df.sort_values(by='Province/State', ascending=True).head(20)"
   ]
  },
  {
   "cell_type": "markdown",
   "metadata": {},
   "source": [
    "## Univariate plots (5 points)\n",
    "Provide at least 3 univariate plots"
   ]
  },
  {
   "cell_type": "markdown",
   "metadata": {},
   "source": [
    "### Univariate plot 1"
   ]
  },
  {
   "cell_type": "markdown",
   "metadata": {},
   "source": [
    "#### Plotting the status on March 20th for the cases"
   ]
  },
  {
   "cell_type": "code",
   "execution_count": 388,
   "metadata": {},
   "outputs": [
    {
     "data": {
      "text/plain": [
       "<matplotlib.axes._subplots.AxesSubplot at 0x174ea13e148>"
      ]
     },
     "execution_count": 388,
     "metadata": {},
     "output_type": "execute_result"
    },
    {
     "data": {
      "image/png": "[encoded data removed]",
      "text/plain": [
       "<Figure size 432x288 with 1 Axes>"
      ]
     },
     "metadata": {},
     "output_type": "display_data"
    }
   ],
   "source": [
    "total_cases.plot(kind='bar', title='Status as on 20th march')"
   ]
  },
  {
   "cell_type": "markdown",
   "metadata": {},
   "source": [
    "### Univariate plot 2"
   ]
  },
  {
   "cell_type": "markdown",
   "metadata": {},
   "source": [
    "##### Plotting the confirmed cases in sorted countrywise using barplot"
   ]
  },
  {
   "cell_type": "code",
   "execution_count": 389,
   "metadata": {},
   "outputs": [
    {
     "data": {
      "text/plain": [
       "<matplotlib.axes._subplots.AxesSubplot at 0x174ea044f08>"
      ]
     },
     "execution_count": 389,
     "metadata": {},
     "output_type": "execute_result"
    },
    {
     "data": {
      "image/png": "[encoded data removed]",
      "text/plain": [
       "<Figure size 432x288 with 1 Axes>"
      ]
     },
     "metadata": {},
     "output_type": "display_data"
    }
   ],
   "source": [
    "\n",
    "c_temp = countrywise_df.sort_values('Confirmed', ascending=False)[['Country/Region', 'Confirmed']]\n",
    "d_temp = countrywise_df.sort_values('Deaths', ascending=False)[['Country/Region', 'Deaths']]\n",
    "r_temp = countrywise_df.sort_values('Recovered', ascending=False)[['Country/Region', 'Recovered']]\n",
    "sns.barplot(x=\"Confirmed\", y=\"Country/Region\", data=c_temp.head(25))"
   ]
  },
  {
   "cell_type": "markdown",
   "metadata": {},
   "source": [
    "### Univariate plot 3"
   ]
  },
  {
   "cell_type": "markdown",
   "metadata": {},
   "source": [
    "##### Using barplot to find the no of Deaths cases for each country"
   ]
  },
  {
   "cell_type": "code",
   "execution_count": 390,
   "metadata": {},
   "outputs": [
    {
     "data": {
      "text/plain": [
       "<matplotlib.axes._subplots.AxesSubplot at 0x174ea040b08>"
      ]
     },
     "execution_count": 390,
     "metadata": {},
     "output_type": "execute_result"
    },
    {
     "data": {
      "image/png": "[encoded data removed]",
      "text/plain": [
       "<Figure size 432x288 with 1 Axes>"
      ]
     },
     "metadata": {},
     "output_type": "display_data"
    }
   ],
   "source": [
    "sns.barplot(x=\"Deaths\", y=\"Country/Region\", data=d_temp.head(25), palette=\"Blues_d\")"
   ]
  },
  {
   "cell_type": "markdown",
   "metadata": {},
   "source": [
    "## Bivariate plots (10 points)\n",
    "Provide at least 2 bivariate plots"
   ]
  },
  {
   "cell_type": "markdown",
   "metadata": {},
   "source": [
    "### Bivariate plot 1"
   ]
  },
  {
   "cell_type": "markdown",
   "metadata": {},
   "source": [
    "We can see from prior analysis that Italy ranks second in the list of countries affected by COVID-19.\n",
    "\n",
    "Here are few key observations on Italy.\n",
    "\n",
    "##### Plotting the number of cases in Italy as per observationdate"
   ]
  },
  {
   "cell_type": "code",
   "execution_count": 460,
   "metadata": {},
   "outputs": [],
   "source": [
    "df = covid_19_df[(covid_19_df['Country/Region']=='Italy')]\n",
    "df.index = df[\"ObservationDate\"]\n",
    "#df.columns.name = 'Confirmed'\n",
    "#df.index = 'Observation Date'\n"
   ]
  },
  {
   "cell_type": "markdown",
   "metadata": {},
   "source": [
    "##### Plotting the number of confirmed cases over the period"
   ]
  },
  {
   "cell_type": "code",
   "execution_count": 462,
   "metadata": {},
   "outputs": [
    {
     "data": {
      "text/plain": [
       "Text(0, 0.5, 'Confirmed cases')"
      ]
     },
     "execution_count": 462,
     "metadata": {},
     "output_type": "execute_result"
    },
    {
     "data": {
      "image/png": "[encoded data removed]",
      "text/plain": [
       "<Figure size 432x288 with 1 Axes>"
      ]
     },
     "metadata": {},
     "output_type": "display_data"
    }
   ],
   "source": [
    "plt = df['Confirmed'].plot(x='Confirmed')\n",
    "plt.set_ylabel('Confirmed cases')"
   ]
  },
  {
   "cell_type": "markdown",
   "metadata": {},
   "source": [
    "##### Plotting the number of recovered cases over the observed period"
   ]
  },
  {
   "cell_type": "code",
   "execution_count": 463,
   "metadata": {},
   "outputs": [
    {
     "data": {
      "text/plain": [
       "Text(0, 0.5, 'Recovered cases')"
      ]
     },
     "execution_count": 463,
     "metadata": {},
     "output_type": "execute_result"
    },
    {
     "data": {
      "image/png": "[encoded data removed]",
      "text/plain": [
       "<Figure size 432x288 with 1 Axes>"
      ]
     },
     "metadata": {},
     "output_type": "display_data"
    }
   ],
   "source": [
    "plot1=df['Recovered'].plot(x='Recovered')\n",
    "plot1.set_ylabel('Recovered cases')"
   ]
  },
  {
   "cell_type": "markdown",
   "metadata": {},
   "source": [
    "### Bivariate plot 2"
   ]
  },
  {
   "cell_type": "markdown",
   "metadata": {},
   "source": [
    "##### To plot the difference between deaths happening each day"
   ]
  },
  {
   "cell_type": "code",
   "execution_count": 464,
   "metadata": {},
   "outputs": [
    {
     "data": {
      "text/plain": [
       "Text(0, 0.5, 'No of deaths')"
      ]
     },
     "execution_count": 464,
     "metadata": {},
     "output_type": "execute_result"
    },
    {
     "data": {
      "image/png": "[encoded data removed]",
      "text/plain": [
       "<Figure size 432x288 with 1 Axes>"
      ]
     },
     "metadata": {},
     "output_type": "display_data"
    }
   ],
   "source": [
    "plot2=df['Deaths'].diff().plot(x='Deaths')\n",
    "plot2.set_ylabel('No of deaths')"
   ]
  },
  {
   "cell_type": "markdown",
   "metadata": {},
   "source": [
    "## Multivariate plot (10 points)\n",
    "Provide at least 1 multivariate"
   ]
  },
  {
   "cell_type": "markdown",
   "metadata": {},
   "source": [
    "### Multivariate plot 1"
   ]
  },
  {
   "cell_type": "markdown",
   "metadata": {},
   "source": [
    "### To plot the number of deaths,confirmed , recovered cases in Mainland china's province Hubei(Wuhan)"
   ]
  },
  {
   "cell_type": "code",
   "execution_count": 407,
   "metadata": {},
   "outputs": [
    {
     "data": {
      "text/plain": [
       "<matplotlib.axes._subplots.AxesSubplot at 0x174e0824348>"
      ]
     },
     "execution_count": 407,
     "metadata": {},
     "output_type": "execute_result"
    },
    {
     "data": {
      "image/png": "[encoded data removed]",
      "text/plain": [
       "<Figure size 432x288 with 1 Axes>"
      ]
     },
     "metadata": {},
     "output_type": "display_data"
    }
   ],
   "source": [
    "df_mv = covid_19_df[(covid_19_df['Country/Region']=='Mainland China') & (covid_19_df['Province/State'] == 'Hubei')][['Deaths','Confirmed','Recovered']]\n",
    "sns.set(style=\"darkgrid\")\n",
    "sns.lineplot(data = df_mv, palette=\"tab10\",linewidth=2.5)"
   ]
  },
  {
   "cell_type": "code",
   "execution_count": 396,
   "metadata": {},
   "outputs": [
    {
     "data": {
      "text/plain": [
       "<seaborn.axisgrid.PairGrid at 0x174eb42fd08>"
      ]
     },
     "execution_count": 396,
     "metadata": {},
     "output_type": "execute_result"
    },
    {
     "data": {
      "image/png": "[encoded data removed]",
      "text/plain": [
       "<Figure size 540x540 with 12 Axes>"
      ]
     },
     "metadata": {},
     "output_type": "display_data"
    }
   ],
   "source": [
    "#Correlation between the growth of conf\n",
    "sns.pairplot(covid_19_df[['Deaths','Confirmed','Recovered']], palette=\"Set2\", height=2.5)\n"
   ]
  },
  {
   "cell_type": "markdown",
   "metadata": {},
   "source": [
    "## Conclusions (20 points)\n",
    "Summarize your conclusions including discovered insights. "
   ]
  },
  {
   "cell_type": "markdown",
   "metadata": {},
   "source": [
    "Analysing the corona virus dataset during this crucial time helped me to gain more insight about the severity\n",
    "1. In general there has been a steady increase in people getting exposed to corona virus in all the countries\n",
    "2. Mainland china is shown to have the largest number of corona virus cases as on March 20,2020.\n",
    "3. It was also interesting to see a steady increase in the confirmed and death  cases.\n",
    "4. It was kind of shocking to note the spread of this disease in every province in every country gradually.\n",
    "5. After analysing the dataset, Italy becomes the seond highest country for corona virus.\n",
    "6. The number of deaths increasing day by day is kind of scary and it only decreases after it has spread to an large extent.\n",
    "7. Overall Analysing the dataset day by day, with observation date the spread is terrifying.\n",
    "\n",
    "Eventhough we have seen enormous trends in our technology so far, after seeing this situation I can visualise we still have a long way to go in our advancements. This project deepened my understanding towards pandas and python and I would still keep exploring the dataset to gain some more meaningful insights.\n"
   ]
  },
  {
   "cell_type": "markdown",
   "metadata": {},
   "source": [
    "## Code is functional and runs without error (10 pts)\n",
    "Verify this by following these steps.\n",
    "\n",
    "1) Reset Kernel. Kernel>>Restart Kernel...\n",
    "\n",
    "2) Rerun all cells. Run>>Run All Cells"
   ]
  },
  {
   "cell_type": "code",
   "execution_count": null,
   "metadata": {},
   "outputs": [],
   "source": []
  }
 ],
 "metadata": {
  "kernelspec": {
   "display_name": "Python 3",
   "language": "python",
   "name": "python3"
  },
  "language_info": {
   "codemirror_mode": {
    "name": "ipython",
    "version": 3
   },
   "file_extension": ".py",
   "mimetype": "text/x-python",
   "name": "python",
   "nbconvert_exporter": "python",
   "pygments_lexer": "ipython3",
   "version": "3.7.4"
  }
 },
 "nbformat": 4,
 "nbformat_minor": 2
}
